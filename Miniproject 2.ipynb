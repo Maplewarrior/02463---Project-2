{
 "cells": [
  {
   "cell_type": "markdown",
   "id": "092a6741",
   "metadata": {},
   "source": [
    "# IMPORT"
   ]
  },
  {
   "cell_type": "code",
   "execution_count": 5,
   "id": "2f4e2298",
   "metadata": {},
   "outputs": [],
   "source": [
    "from sklearn.datasets import load_iris\n",
    "from sklearn.model_selection import train_test_split\n",
    "from sklearn.naive_bayes import GaussianNB\n",
    "\n",
    "import numpy as np\n",
    "import pandas as pd\n",
    "import torch\n",
    "from torch.autograd import Variable\n",
    "from torch.nn import Linear, ReLU, CrossEntropyLoss, Sequential, Conv2d, MaxPool2d, Module, Softmax, BatchNorm2d, Dropout\n",
    "from torch.optim import Adam, SGD\n",
    "import GPyOpt\n",
    "from timeit import default_timer as timer"
   ]
  },
  {
   "cell_type": "markdown",
   "id": "e967f577",
   "metadata": {},
   "source": [
    "# DATA"
   ]
  },
  {
   "cell_type": "code",
   "execution_count": 61,
   "id": "064fad88",
   "metadata": {},
   "outputs": [
    {
     "name": "stdout",
     "output_type": "stream",
     "text": [
      "Train data shape: (350, 784) Test data shape: (2000, 784)\n",
      "Train labels shape: (350,)   Test labels shape: (2000,)\n",
      "Pool data shape: (11650, 784)   Pool labels shape: (11650,)\n"
     ]
    }
   ],
   "source": [
    "# define number of classes\n",
    "begining_index = 4\n",
    "n_classes = 2\n",
    "train_class_sizes = [0,0,0,0,300,50,0,0,0,0]\n",
    "test_class_sizes =  [0,0,0,0,1000,1000,0,0,0,0]\n",
    "\n",
    "# load train and test sets\n",
    "train = pd.read_csv('Data/fashion-mnist_train.csv').to_numpy()\n",
    "test = pd.read_csv('Data/fashion-mnist_test.csv').to_numpy()\n",
    "\n",
    "X_train = train[:,1:]\n",
    "y_train = train[:,0]\n",
    "X_test = test[:,1:]\n",
    "y_test = test[:,0]\n",
    "\n",
    "where_train = []\n",
    "where_test = []\n",
    "where_pool = []\n",
    "\n",
    "for label in range(begining_index,begining_index+n_classes):\n",
    "    where_train.append(np.where(y_train == label)[0][:train_class_sizes[label]])\n",
    "    where_test.append(np.where(y_test == label)[0][:test_class_sizes[label]])\n",
    "    where_pool.append(np.where(y_train == label)[0][train_class_sizes[label]:])\n",
    "\n",
    "def flatten(array):\n",
    "    new_array = []\n",
    "    for sublist in array:\n",
    "        for item in sublist:\n",
    "            new_array.append(item)\n",
    "    return new_array\n",
    "    \n",
    "where_train = flatten(where_train)\n",
    "where_test = flatten(where_test)\n",
    "where_pool = flatten(where_pool)\n",
    "\n",
    "X_pool = X_train[where_pool]\n",
    "y_pool = y_train[where_pool]\n",
    "\n",
    "X_train = X_train[where_train]\n",
    "y_train = y_train[where_train]\n",
    "\n",
    "X_test = X_test[where_test]\n",
    "y_test = y_test[where_test]\n",
    "    \n",
    "print(\"Train data shape:\", X_train.shape, \"Test data shape:\", X_test.shape)\n",
    "print(\"Train labels shape:\", y_train.shape,\"  Test labels shape:\", y_test.shape)\n",
    "print(\"Pool data shape:\", X_pool.shape,\"  Pool labels shape:\", y_pool.shape)"
   ]
  },
  {
   "cell_type": "markdown",
   "id": "654e8fba",
   "metadata": {},
   "source": [
    "# NAIVE BAYES MODEL"
   ]
  },
  {
   "cell_type": "code",
   "execution_count": 62,
   "id": "bae72f9b",
   "metadata": {
    "scrolled": true
   },
   "outputs": [
    {
     "name": "stdout",
     "output_type": "stream",
     "text": [
      "Number of mislabeled points out of a total 2000 points : 53\n",
      "2.65% mislabeled data.\n",
      "Mislabeled of class 4: 0.0\n",
      "Mislabeled of class 5: 5.3\n"
     ]
    }
   ],
   "source": [
    "gnb = GaussianNB()\n",
    "y_pred = gnb.fit(X_train, y_train).predict(X_test)\n",
    "\n",
    "print(\"Number of mislabeled points out of a total %d points : %d\"% (X_test.shape[0], (y_test != y_pred).sum()))\n",
    "print(\"{0}% mislabeled data.\".format(((y_test != y_pred).sum()/X_test.shape[0])*100))\n",
    "\n",
    "mislabeled = [0,0,0,0,0,0,0,0,0,0]\n",
    "count = [0,0,0,0,0,0,0,0,0,0]\n",
    "for i in range(len(y_pred)):\n",
    "    count[int(y_test[i])] += 1\n",
    "    if y_pred[i] != y_test[i]:\n",
    "        mislabeled[int(y_test[i])] += 1\n",
    "\n",
    "print(\"Mislabeled of class {0}: {1}\".format(begining_index,(mislabeled[begining_index]/count[begining_index])*100))\n",
    "print(\"Mislabeled of class {0}: {1}\".format(begining_index+1,(mislabeled[begining_index+1]/count[begining_index+1])*100))"
   ]
  },
  {
   "cell_type": "code",
   "execution_count": null,
   "id": "e34f3b05",
   "metadata": {},
   "outputs": [],
   "source": []
  }
 ],
 "metadata": {
  "kernelspec": {
   "display_name": "Python 3 (ipykernel)",
   "language": "python",
   "name": "python3"
  },
  "language_info": {
   "codemirror_mode": {
    "name": "ipython",
    "version": 3
   },
   "file_extension": ".py",
   "mimetype": "text/x-python",
   "name": "python",
   "nbconvert_exporter": "python",
   "pygments_lexer": "ipython3",
   "version": "3.9.7"
  }
 },
 "nbformat": 4,
 "nbformat_minor": 5
}
