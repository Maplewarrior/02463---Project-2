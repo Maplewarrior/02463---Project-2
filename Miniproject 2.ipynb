{
 "cells": [
  {
   "cell_type": "markdown",
   "id": "092a6741",
   "metadata": {},
   "source": [
    "# IMPORT"
   ]
  },
  {
   "cell_type": "code",
   "execution_count": 39,
   "id": "2f4e2298",
   "metadata": {},
   "outputs": [],
   "source": [
    "from collections import namedtuple\n",
    "\n",
    "from sklearn.datasets import load_iris\n",
    "from sklearn.model_selection import train_test_split\n",
    "from sklearn.naive_bayes import GaussianNB\n",
    "\n",
    "import numpy as np\n",
    "import pandas as pd\n",
    "from timeit import default_timer as timer\n",
    "\n",
    "\n",
    "from modAL.disagreement import vote_entropy_sampling\n",
    "from modAL.models import ActiveLearner, Committee\n",
    "\n",
    "from sklearn.decomposition import PCA\n",
    "from tqdm.notebook import tqdm, trange\n",
    "#the line above may fail on google colab so you can use the line below in that case but progress bars will looks less nice\n",
    "#from tqdm import tqdm, trange\n",
    "import matplotlib as mpl\n",
    "import matplotlib.pyplot as plt\n",
    "\n",
    "ModelClass=GaussianNB\n",
    "\n",
    "\n",
    "import warnings\n",
    "warnings.simplefilter(action='ignore', category=FutureWarning)\n",
    "\n",
    "ResultsRecord = namedtuple('ResultsRecord', ['estimator', 'query_id', 'score'])"
   ]
  },
  {
   "cell_type": "markdown",
   "id": "cb8de95c",
   "metadata": {},
   "source": [
    "# SETUP"
   ]
  },
  {
   "cell_type": "code",
   "execution_count": 41,
   "id": "c848a7c3",
   "metadata": {},
   "outputs": [],
   "source": [
    "SEED = 1 # Set our RNG seed for reproducibility.\n",
    "\n",
    "n_queries = 75 # You can lower this to decrease run time\n",
    "\n",
    "# You can increase this to get error bars on your evaluation.\n",
    "# You probably need to use the parallel code to make this reasonable to compute\n",
    "n_repeats = 3"
   ]
  },
  {
   "cell_type": "markdown",
   "id": "e967f577",
   "metadata": {},
   "source": [
    "# DATA"
   ]
  },
  {
   "cell_type": "code",
   "execution_count": 42,
   "id": "064fad88",
   "metadata": {},
   "outputs": [
    {
     "name": "stdout",
     "output_type": "stream",
     "text": [
      "Train data shape: (350, 784) Test data shape: (2000, 784)\n",
      "Train labels shape: (350,)   Test labels shape: (2000,)\n",
      "Pool data shape: (11650, 784)   Pool labels shape: (11650,)\n"
     ]
    }
   ],
   "source": [
    "# define number of classes\n",
    "begining_index = 4\n",
    "n_classes = 2\n",
    "train_class_sizes = [0,0,0,0,300,50,0,0,0,0]\n",
    "test_class_sizes =  [0,0,0,0,1000,1000,0,0,0,0]\n",
    "\n",
    "# load train and test sets\n",
    "train = pd.read_csv('Data/fashion-mnist_train.csv').to_numpy()\n",
    "test = pd.read_csv('Data/fashion-mnist_test.csv').to_numpy()\n",
    "\n",
    "X_train = train[:,1:]\n",
    "y_train = train[:,0]\n",
    "X_test = test[:,1:]\n",
    "y_test = test[:,0]\n",
    "\n",
    "where_train = []\n",
    "where_test = []\n",
    "where_pool = []\n",
    "\n",
    "for label in range(begining_index,begining_index+n_classes):\n",
    "    where_train.append(np.where(y_train == label)[0][:train_class_sizes[label]])\n",
    "    where_test.append(np.where(y_test == label)[0][:test_class_sizes[label]])\n",
    "    where_pool.append(np.where(y_train == label)[0][train_class_sizes[label]:])\n",
    "\n",
    "def flatten(array):\n",
    "    new_array = []\n",
    "    for sublist in array:\n",
    "        for item in sublist:\n",
    "            new_array.append(item)\n",
    "    return new_array\n",
    "    \n",
    "where_train = flatten(where_train)\n",
    "where_test = flatten(where_test)\n",
    "where_pool = flatten(where_pool)\n",
    "\n",
    "X_pool = X_train[where_pool]\n",
    "y_pool = y_train[where_pool]\n",
    "\n",
    "X_train = X_train[where_train]\n",
    "y_train = y_train[where_train]\n",
    "\n",
    "X_test = X_test[where_test]\n",
    "y_test = y_test[where_test]\n",
    "    \n",
    "print(\"Train data shape:\", X_train.shape, \"Test data shape:\", X_test.shape)\n",
    "print(\"Train labels shape:\", y_train.shape,\"  Test labels shape:\", y_test.shape)\n",
    "print(\"Pool data shape:\", X_pool.shape,\"  Pool labels shape:\", y_pool.shape)"
   ]
  },
  {
   "cell_type": "markdown",
   "id": "654e8fba",
   "metadata": {},
   "source": [
    "# NAIVE BAYES MODEL"
   ]
  },
  {
   "cell_type": "code",
   "execution_count": 43,
   "id": "bae72f9b",
   "metadata": {
    "scrolled": true
   },
   "outputs": [
    {
     "name": "stdout",
     "output_type": "stream",
     "text": [
      "Number of mislabeled points out of a total 2000 points : 53\n",
      "2.65% mislabeled data.\n",
      "Mislabeled of class 4: 0.0\n",
      "Mislabeled of class 5: 5.3\n"
     ]
    }
   ],
   "source": [
    "gnb = GaussianNB()\n",
    "y_pred = gnb.fit(X_train, y_train).predict(X_test)\n",
    "\n",
    "print(\"Number of mislabeled points out of a total %d points : %d\"% (X_test.shape[0], (y_test != y_pred).sum()))\n",
    "print(\"{0}% mislabeled data.\".format(((y_test != y_pred).sum()/X_test.shape[0])*100))\n",
    "\n",
    "mislabeled = [0,0,0,0,0,0,0,0,0,0]\n",
    "count = [0,0,0,0,0,0,0,0,0,0]\n",
    "for i in range(len(y_pred)):\n",
    "    count[int(y_test[i])] += 1\n",
    "    if y_pred[i] != y_test[i]:\n",
    "        mislabeled[int(y_test[i])] += 1\n",
    "\n",
    "print(\"Mislabeled of class {0}: {1}\".format(begining_index,(mislabeled[begining_index]/count[begining_index])*100))\n",
    "print(\"Mislabeled of class {0}: {1}\".format(begining_index+1,(mislabeled[begining_index+1]/count[begining_index+1])*100))"
   ]
  },
  {
   "cell_type": "code",
   "execution_count": null,
   "id": "e34f3b05",
   "metadata": {},
   "outputs": [],
   "source": []
  },
  {
   "cell_type": "markdown",
   "id": "474111ce",
   "metadata": {},
   "source": [
    "# Query by comitte\n",
    "\n",
    "## Passive learner"
   ]
  },
  {
   "cell_type": "code",
   "execution_count": 44,
   "id": "07de9b18",
   "metadata": {},
   "outputs": [],
   "source": [
    "permutations=[np.random.permutation(X_train.shape[0]) for _ in range(n_repeats)]"
   ]
  },
  {
   "cell_type": "code",
   "execution_count": 45,
   "id": "44b18cd4",
   "metadata": {},
   "outputs": [
    {
     "data": {
      "application/vnd.jupyter.widget-view+json": {
       "model_id": "8d802c38112143c2a79bddd22f7ada7c",
       "version_major": 2,
       "version_minor": 0
      },
      "text/plain": [
       "  0%|          | 0/3 [00:00<?, ?it/s]"
      ]
     },
     "metadata": {},
     "output_type": "display_data"
    },
    {
     "data": {
      "application/vnd.jupyter.widget-view+json": {
       "model_id": "",
       "version_major": 2,
       "version_minor": 0
      },
      "text/plain": [
       "  0%|          | 0/74 [00:00<?, ?it/s]"
      ]
     },
     "metadata": {},
     "output_type": "display_data"
    },
    {
     "data": {
      "application/vnd.jupyter.widget-view+json": {
       "model_id": "",
       "version_major": 2,
       "version_minor": 0
      },
      "text/plain": [
       "  0%|          | 0/74 [00:00<?, ?it/s]"
      ]
     },
     "metadata": {},
     "output_type": "display_data"
    },
    {
     "data": {
      "application/vnd.jupyter.widget-view+json": {
       "model_id": "",
       "version_major": 2,
       "version_minor": 0
      },
      "text/plain": [
       "  0%|          | 0/74 [00:00<?, ?it/s]"
      ]
     },
     "metadata": {},
     "output_type": "display_data"
    }
   ],
   "source": [
    "random_results = []\n",
    "\n",
    "for i_repeat in tqdm(range(n_repeats)):\n",
    "    learner = ModelClass()\n",
    "    for i_query in tqdm(range(1,n_queries),leave=False):\n",
    "        query_indices=permutations[i_repeat][:1+i_query]\n",
    "        learner=learner.fit(X=X_train[query_indices, :], y=y_train[query_indices])\n",
    "        score = learner.score(X_test, y_test)\n",
    "        \n",
    "        random_results.append(ResultsRecord('random', i_query, score))"
   ]
  },
  {
   "cell_type": "markdown",
   "id": "08e443d0",
   "metadata": {},
   "source": [
    "## A comittee"
   ]
  },
  {
   "cell_type": "code",
   "execution_count": 46,
   "id": "837a47a0",
   "metadata": {},
   "outputs": [],
   "source": [
    "n_members=[2, 4, 8, 12]"
   ]
  },
  {
   "cell_type": "code",
   "execution_count": 47,
   "id": "bc68944c",
   "metadata": {},
   "outputs": [
    {
     "data": {
      "application/vnd.jupyter.widget-view+json": {
       "model_id": "3374507183ad4ba6b5cf84aab4fd7bae",
       "version_major": 2,
       "version_minor": 0
      },
      "text/plain": [
       "  0%|          | 0/3 [00:00<?, ?it/s]"
      ]
     },
     "metadata": {},
     "output_type": "display_data"
    },
    {
     "data": {
      "application/vnd.jupyter.widget-view+json": {
       "model_id": "",
       "version_major": 2,
       "version_minor": 0
      },
      "text/plain": [
       "Round (no. members) 0:   0%|          | 0/4 [00:00<?, ?it/s]"
      ]
     },
     "metadata": {},
     "output_type": "display_data"
    },
    {
     "data": {
      "application/vnd.jupyter.widget-view+json": {
       "model_id": "",
       "version_major": 2,
       "version_minor": 0
      },
      "text/plain": [
       "Points 0:   0%|          | 0/74 [00:00<?, ?it/s]"
      ]
     },
     "metadata": {},
     "output_type": "display_data"
    },
    {
     "name": "stderr",
     "output_type": "stream",
     "text": [
      "C:\\Users\\andre\\anaconda3\\envs\\signaler-exam\\lib\\site-packages\\sklearn\\naive_bayes.py:452: RuntimeWarning: divide by zero encountered in log\n",
      "  n_ij = - 0.5 * np.sum(np.log(2. * np.pi * self.sigma_[i, :]))\n",
      "C:\\Users\\andre\\anaconda3\\envs\\signaler-exam\\lib\\site-packages\\sklearn\\naive_bayes.py:453: RuntimeWarning: divide by zero encountered in true_divide\n",
      "  n_ij -= 0.5 * np.sum(((X - self.theta_[i, :]) ** 2) /\n",
      "C:\\Users\\andre\\anaconda3\\envs\\signaler-exam\\lib\\site-packages\\sklearn\\naive_bayes.py:453: RuntimeWarning: invalid value encountered in true_divide\n",
      "  n_ij -= 0.5 * np.sum(((X - self.theta_[i, :]) ** 2) /\n",
      "C:\\Users\\andre\\anaconda3\\envs\\signaler-exam\\lib\\site-packages\\sklearn\\naive_bayes.py:452: RuntimeWarning: divide by zero encountered in log\n",
      "  n_ij = - 0.5 * np.sum(np.log(2. * np.pi * self.sigma_[i, :]))\n",
      "C:\\Users\\andre\\anaconda3\\envs\\signaler-exam\\lib\\site-packages\\sklearn\\naive_bayes.py:453: RuntimeWarning: divide by zero encountered in true_divide\n",
      "  n_ij -= 0.5 * np.sum(((X - self.theta_[i, :]) ** 2) /\n",
      "C:\\Users\\andre\\anaconda3\\envs\\signaler-exam\\lib\\site-packages\\sklearn\\naive_bayes.py:453: RuntimeWarning: invalid value encountered in true_divide\n",
      "  n_ij -= 0.5 * np.sum(((X - self.theta_[i, :]) ** 2) /\n"
     ]
    },
    {
     "data": {
      "application/vnd.jupyter.widget-view+json": {
       "model_id": "",
       "version_major": 2,
       "version_minor": 0
      },
      "text/plain": [
       "Points 0:   0%|          | 0/74 [00:00<?, ?it/s]"
      ]
     },
     "metadata": {},
     "output_type": "display_data"
    },
    {
     "name": "stderr",
     "output_type": "stream",
     "text": [
      "C:\\Users\\andre\\anaconda3\\envs\\signaler-exam\\lib\\site-packages\\sklearn\\naive_bayes.py:452: RuntimeWarning: divide by zero encountered in log\n",
      "  n_ij = - 0.5 * np.sum(np.log(2. * np.pi * self.sigma_[i, :]))\n",
      "C:\\Users\\andre\\anaconda3\\envs\\signaler-exam\\lib\\site-packages\\sklearn\\naive_bayes.py:453: RuntimeWarning: divide by zero encountered in true_divide\n",
      "  n_ij -= 0.5 * np.sum(((X - self.theta_[i, :]) ** 2) /\n",
      "C:\\Users\\andre\\anaconda3\\envs\\signaler-exam\\lib\\site-packages\\sklearn\\naive_bayes.py:453: RuntimeWarning: invalid value encountered in true_divide\n",
      "  n_ij -= 0.5 * np.sum(((X - self.theta_[i, :]) ** 2) /\n",
      "C:\\Users\\andre\\anaconda3\\envs\\signaler-exam\\lib\\site-packages\\sklearn\\naive_bayes.py:452: RuntimeWarning: divide by zero encountered in log\n",
      "  n_ij = - 0.5 * np.sum(np.log(2. * np.pi * self.sigma_[i, :]))\n",
      "C:\\Users\\andre\\anaconda3\\envs\\signaler-exam\\lib\\site-packages\\sklearn\\naive_bayes.py:453: RuntimeWarning: divide by zero encountered in true_divide\n",
      "  n_ij -= 0.5 * np.sum(((X - self.theta_[i, :]) ** 2) /\n",
      "C:\\Users\\andre\\anaconda3\\envs\\signaler-exam\\lib\\site-packages\\sklearn\\naive_bayes.py:453: RuntimeWarning: invalid value encountered in true_divide\n",
      "  n_ij -= 0.5 * np.sum(((X - self.theta_[i, :]) ** 2) /\n",
      "C:\\Users\\andre\\anaconda3\\envs\\signaler-exam\\lib\\site-packages\\sklearn\\naive_bayes.py:452: RuntimeWarning: divide by zero encountered in log\n",
      "  n_ij = - 0.5 * np.sum(np.log(2. * np.pi * self.sigma_[i, :]))\n",
      "C:\\Users\\andre\\anaconda3\\envs\\signaler-exam\\lib\\site-packages\\sklearn\\naive_bayes.py:453: RuntimeWarning: divide by zero encountered in true_divide\n",
      "  n_ij -= 0.5 * np.sum(((X - self.theta_[i, :]) ** 2) /\n",
      "C:\\Users\\andre\\anaconda3\\envs\\signaler-exam\\lib\\site-packages\\sklearn\\naive_bayes.py:453: RuntimeWarning: invalid value encountered in true_divide\n",
      "  n_ij -= 0.5 * np.sum(((X - self.theta_[i, :]) ** 2) /\n",
      "C:\\Users\\andre\\anaconda3\\envs\\signaler-exam\\lib\\site-packages\\sklearn\\naive_bayes.py:452: RuntimeWarning: divide by zero encountered in log\n",
      "  n_ij = - 0.5 * np.sum(np.log(2. * np.pi * self.sigma_[i, :]))\n",
      "C:\\Users\\andre\\anaconda3\\envs\\signaler-exam\\lib\\site-packages\\sklearn\\naive_bayes.py:453: RuntimeWarning: divide by zero encountered in true_divide\n",
      "  n_ij -= 0.5 * np.sum(((X - self.theta_[i, :]) ** 2) /\n",
      "C:\\Users\\andre\\anaconda3\\envs\\signaler-exam\\lib\\site-packages\\sklearn\\naive_bayes.py:453: RuntimeWarning: invalid value encountered in true_divide\n",
      "  n_ij -= 0.5 * np.sum(((X - self.theta_[i, :]) ** 2) /\n"
     ]
    },
    {
     "data": {
      "application/vnd.jupyter.widget-view+json": {
       "model_id": "",
       "version_major": 2,
       "version_minor": 0
      },
      "text/plain": [
       "Points 0:   0%|          | 0/74 [00:00<?, ?it/s]"
      ]
     },
     "metadata": {},
     "output_type": "display_data"
    },
    {
     "name": "stderr",
     "output_type": "stream",
     "text": [
      "C:\\Users\\andre\\anaconda3\\envs\\signaler-exam\\lib\\site-packages\\sklearn\\naive_bayes.py:452: RuntimeWarning: divide by zero encountered in log\n",
      "  n_ij = - 0.5 * np.sum(np.log(2. * np.pi * self.sigma_[i, :]))\n",
      "C:\\Users\\andre\\anaconda3\\envs\\signaler-exam\\lib\\site-packages\\sklearn\\naive_bayes.py:453: RuntimeWarning: divide by zero encountered in true_divide\n",
      "  n_ij -= 0.5 * np.sum(((X - self.theta_[i, :]) ** 2) /\n",
      "C:\\Users\\andre\\anaconda3\\envs\\signaler-exam\\lib\\site-packages\\sklearn\\naive_bayes.py:453: RuntimeWarning: invalid value encountered in true_divide\n",
      "  n_ij -= 0.5 * np.sum(((X - self.theta_[i, :]) ** 2) /\n",
      "C:\\Users\\andre\\anaconda3\\envs\\signaler-exam\\lib\\site-packages\\sklearn\\naive_bayes.py:452: RuntimeWarning: divide by zero encountered in log\n",
      "  n_ij = - 0.5 * np.sum(np.log(2. * np.pi * self.sigma_[i, :]))\n",
      "C:\\Users\\andre\\anaconda3\\envs\\signaler-exam\\lib\\site-packages\\sklearn\\naive_bayes.py:453: RuntimeWarning: divide by zero encountered in true_divide\n",
      "  n_ij -= 0.5 * np.sum(((X - self.theta_[i, :]) ** 2) /\n",
      "C:\\Users\\andre\\anaconda3\\envs\\signaler-exam\\lib\\site-packages\\sklearn\\naive_bayes.py:453: RuntimeWarning: invalid value encountered in true_divide\n",
      "  n_ij -= 0.5 * np.sum(((X - self.theta_[i, :]) ** 2) /\n",
      "C:\\Users\\andre\\anaconda3\\envs\\signaler-exam\\lib\\site-packages\\sklearn\\naive_bayes.py:452: RuntimeWarning: divide by zero encountered in log\n",
      "  n_ij = - 0.5 * np.sum(np.log(2. * np.pi * self.sigma_[i, :]))\n",
      "C:\\Users\\andre\\anaconda3\\envs\\signaler-exam\\lib\\site-packages\\sklearn\\naive_bayes.py:453: RuntimeWarning: divide by zero encountered in true_divide\n",
      "  n_ij -= 0.5 * np.sum(((X - self.theta_[i, :]) ** 2) /\n",
      "C:\\Users\\andre\\anaconda3\\envs\\signaler-exam\\lib\\site-packages\\sklearn\\naive_bayes.py:453: RuntimeWarning: invalid value encountered in true_divide\n",
      "  n_ij -= 0.5 * np.sum(((X - self.theta_[i, :]) ** 2) /\n",
      "C:\\Users\\andre\\anaconda3\\envs\\signaler-exam\\lib\\site-packages\\sklearn\\naive_bayes.py:452: RuntimeWarning: divide by zero encountered in log\n",
      "  n_ij = - 0.5 * np.sum(np.log(2. * np.pi * self.sigma_[i, :]))\n",
      "C:\\Users\\andre\\anaconda3\\envs\\signaler-exam\\lib\\site-packages\\sklearn\\naive_bayes.py:453: RuntimeWarning: divide by zero encountered in true_divide\n",
      "  n_ij -= 0.5 * np.sum(((X - self.theta_[i, :]) ** 2) /\n",
      "C:\\Users\\andre\\anaconda3\\envs\\signaler-exam\\lib\\site-packages\\sklearn\\naive_bayes.py:453: RuntimeWarning: invalid value encountered in true_divide\n",
      "  n_ij -= 0.5 * np.sum(((X - self.theta_[i, :]) ** 2) /\n",
      "C:\\Users\\andre\\anaconda3\\envs\\signaler-exam\\lib\\site-packages\\sklearn\\naive_bayes.py:452: RuntimeWarning: divide by zero encountered in log\n",
      "  n_ij = - 0.5 * np.sum(np.log(2. * np.pi * self.sigma_[i, :]))\n",
      "C:\\Users\\andre\\anaconda3\\envs\\signaler-exam\\lib\\site-packages\\sklearn\\naive_bayes.py:453: RuntimeWarning: divide by zero encountered in true_divide\n",
      "  n_ij -= 0.5 * np.sum(((X - self.theta_[i, :]) ** 2) /\n",
      "C:\\Users\\andre\\anaconda3\\envs\\signaler-exam\\lib\\site-packages\\sklearn\\naive_bayes.py:453: RuntimeWarning: invalid value encountered in true_divide\n",
      "  n_ij -= 0.5 * np.sum(((X - self.theta_[i, :]) ** 2) /\n",
      "C:\\Users\\andre\\anaconda3\\envs\\signaler-exam\\lib\\site-packages\\sklearn\\naive_bayes.py:452: RuntimeWarning: divide by zero encountered in log\n",
      "  n_ij = - 0.5 * np.sum(np.log(2. * np.pi * self.sigma_[i, :]))\n",
      "C:\\Users\\andre\\anaconda3\\envs\\signaler-exam\\lib\\site-packages\\sklearn\\naive_bayes.py:453: RuntimeWarning: divide by zero encountered in true_divide\n",
      "  n_ij -= 0.5 * np.sum(((X - self.theta_[i, :]) ** 2) /\n",
      "C:\\Users\\andre\\anaconda3\\envs\\signaler-exam\\lib\\site-packages\\sklearn\\naive_bayes.py:453: RuntimeWarning: invalid value encountered in true_divide\n",
      "  n_ij -= 0.5 * np.sum(((X - self.theta_[i, :]) ** 2) /\n",
      "C:\\Users\\andre\\anaconda3\\envs\\signaler-exam\\lib\\site-packages\\sklearn\\naive_bayes.py:452: RuntimeWarning: divide by zero encountered in log\n",
      "  n_ij = - 0.5 * np.sum(np.log(2. * np.pi * self.sigma_[i, :]))\n",
      "C:\\Users\\andre\\anaconda3\\envs\\signaler-exam\\lib\\site-packages\\sklearn\\naive_bayes.py:453: RuntimeWarning: divide by zero encountered in true_divide\n",
      "  n_ij -= 0.5 * np.sum(((X - self.theta_[i, :]) ** 2) /\n",
      "C:\\Users\\andre\\anaconda3\\envs\\signaler-exam\\lib\\site-packages\\sklearn\\naive_bayes.py:453: RuntimeWarning: invalid value encountered in true_divide\n",
      "  n_ij -= 0.5 * np.sum(((X - self.theta_[i, :]) ** 2) /\n",
      "C:\\Users\\andre\\anaconda3\\envs\\signaler-exam\\lib\\site-packages\\sklearn\\naive_bayes.py:452: RuntimeWarning: divide by zero encountered in log\n",
      "  n_ij = - 0.5 * np.sum(np.log(2. * np.pi * self.sigma_[i, :]))\n",
      "C:\\Users\\andre\\anaconda3\\envs\\signaler-exam\\lib\\site-packages\\sklearn\\naive_bayes.py:453: RuntimeWarning: divide by zero encountered in true_divide\n",
      "  n_ij -= 0.5 * np.sum(((X - self.theta_[i, :]) ** 2) /\n",
      "C:\\Users\\andre\\anaconda3\\envs\\signaler-exam\\lib\\site-packages\\sklearn\\naive_bayes.py:453: RuntimeWarning: invalid value encountered in true_divide\n",
      "  n_ij -= 0.5 * np.sum(((X - self.theta_[i, :]) ** 2) /\n"
     ]
    },
    {
     "data": {
      "application/vnd.jupyter.widget-view+json": {
       "model_id": "",
       "version_major": 2,
       "version_minor": 0
      },
      "text/plain": [
       "Points 0:   0%|          | 0/74 [00:00<?, ?it/s]"
      ]
     },
     "metadata": {},
     "output_type": "display_data"
    },
    {
     "name": "stderr",
     "output_type": "stream",
     "text": [
      "C:\\Users\\andre\\anaconda3\\envs\\signaler-exam\\lib\\site-packages\\sklearn\\naive_bayes.py:452: RuntimeWarning: divide by zero encountered in log\n",
      "  n_ij = - 0.5 * np.sum(np.log(2. * np.pi * self.sigma_[i, :]))\n",
      "C:\\Users\\andre\\anaconda3\\envs\\signaler-exam\\lib\\site-packages\\sklearn\\naive_bayes.py:453: RuntimeWarning: divide by zero encountered in true_divide\n",
      "  n_ij -= 0.5 * np.sum(((X - self.theta_[i, :]) ** 2) /\n",
      "C:\\Users\\andre\\anaconda3\\envs\\signaler-exam\\lib\\site-packages\\sklearn\\naive_bayes.py:453: RuntimeWarning: invalid value encountered in true_divide\n",
      "  n_ij -= 0.5 * np.sum(((X - self.theta_[i, :]) ** 2) /\n",
      "C:\\Users\\andre\\anaconda3\\envs\\signaler-exam\\lib\\site-packages\\sklearn\\naive_bayes.py:452: RuntimeWarning: divide by zero encountered in log\n",
      "  n_ij = - 0.5 * np.sum(np.log(2. * np.pi * self.sigma_[i, :]))\n",
      "C:\\Users\\andre\\anaconda3\\envs\\signaler-exam\\lib\\site-packages\\sklearn\\naive_bayes.py:453: RuntimeWarning: divide by zero encountered in true_divide\n",
      "  n_ij -= 0.5 * np.sum(((X - self.theta_[i, :]) ** 2) /\n",
      "C:\\Users\\andre\\anaconda3\\envs\\signaler-exam\\lib\\site-packages\\sklearn\\naive_bayes.py:453: RuntimeWarning: invalid value encountered in true_divide\n",
      "  n_ij -= 0.5 * np.sum(((X - self.theta_[i, :]) ** 2) /\n",
      "C:\\Users\\andre\\anaconda3\\envs\\signaler-exam\\lib\\site-packages\\sklearn\\naive_bayes.py:452: RuntimeWarning: divide by zero encountered in log\n",
      "  n_ij = - 0.5 * np.sum(np.log(2. * np.pi * self.sigma_[i, :]))\n",
      "C:\\Users\\andre\\anaconda3\\envs\\signaler-exam\\lib\\site-packages\\sklearn\\naive_bayes.py:453: RuntimeWarning: divide by zero encountered in true_divide\n",
      "  n_ij -= 0.5 * np.sum(((X - self.theta_[i, :]) ** 2) /\n",
      "C:\\Users\\andre\\anaconda3\\envs\\signaler-exam\\lib\\site-packages\\sklearn\\naive_bayes.py:453: RuntimeWarning: invalid value encountered in true_divide\n",
      "  n_ij -= 0.5 * np.sum(((X - self.theta_[i, :]) ** 2) /\n",
      "C:\\Users\\andre\\anaconda3\\envs\\signaler-exam\\lib\\site-packages\\sklearn\\naive_bayes.py:452: RuntimeWarning: divide by zero encountered in log\n",
      "  n_ij = - 0.5 * np.sum(np.log(2. * np.pi * self.sigma_[i, :]))\n",
      "C:\\Users\\andre\\anaconda3\\envs\\signaler-exam\\lib\\site-packages\\sklearn\\naive_bayes.py:453: RuntimeWarning: divide by zero encountered in true_divide\n",
      "  n_ij -= 0.5 * np.sum(((X - self.theta_[i, :]) ** 2) /\n",
      "C:\\Users\\andre\\anaconda3\\envs\\signaler-exam\\lib\\site-packages\\sklearn\\naive_bayes.py:453: RuntimeWarning: invalid value encountered in true_divide\n",
      "  n_ij -= 0.5 * np.sum(((X - self.theta_[i, :]) ** 2) /\n",
      "C:\\Users\\andre\\anaconda3\\envs\\signaler-exam\\lib\\site-packages\\sklearn\\naive_bayes.py:452: RuntimeWarning: divide by zero encountered in log\n",
      "  n_ij = - 0.5 * np.sum(np.log(2. * np.pi * self.sigma_[i, :]))\n",
      "C:\\Users\\andre\\anaconda3\\envs\\signaler-exam\\lib\\site-packages\\sklearn\\naive_bayes.py:453: RuntimeWarning: divide by zero encountered in true_divide\n",
      "  n_ij -= 0.5 * np.sum(((X - self.theta_[i, :]) ** 2) /\n",
      "C:\\Users\\andre\\anaconda3\\envs\\signaler-exam\\lib\\site-packages\\sklearn\\naive_bayes.py:453: RuntimeWarning: invalid value encountered in true_divide\n",
      "  n_ij -= 0.5 * np.sum(((X - self.theta_[i, :]) ** 2) /\n",
      "C:\\Users\\andre\\anaconda3\\envs\\signaler-exam\\lib\\site-packages\\sklearn\\naive_bayes.py:452: RuntimeWarning: divide by zero encountered in log\n",
      "  n_ij = - 0.5 * np.sum(np.log(2. * np.pi * self.sigma_[i, :]))\n",
      "C:\\Users\\andre\\anaconda3\\envs\\signaler-exam\\lib\\site-packages\\sklearn\\naive_bayes.py:453: RuntimeWarning: divide by zero encountered in true_divide\n",
      "  n_ij -= 0.5 * np.sum(((X - self.theta_[i, :]) ** 2) /\n",
      "C:\\Users\\andre\\anaconda3\\envs\\signaler-exam\\lib\\site-packages\\sklearn\\naive_bayes.py:453: RuntimeWarning: invalid value encountered in true_divide\n",
      "  n_ij -= 0.5 * np.sum(((X - self.theta_[i, :]) ** 2) /\n",
      "C:\\Users\\andre\\anaconda3\\envs\\signaler-exam\\lib\\site-packages\\sklearn\\naive_bayes.py:452: RuntimeWarning: divide by zero encountered in log\n",
      "  n_ij = - 0.5 * np.sum(np.log(2. * np.pi * self.sigma_[i, :]))\n",
      "C:\\Users\\andre\\anaconda3\\envs\\signaler-exam\\lib\\site-packages\\sklearn\\naive_bayes.py:453: RuntimeWarning: divide by zero encountered in true_divide\n",
      "  n_ij -= 0.5 * np.sum(((X - self.theta_[i, :]) ** 2) /\n",
      "C:\\Users\\andre\\anaconda3\\envs\\signaler-exam\\lib\\site-packages\\sklearn\\naive_bayes.py:453: RuntimeWarning: invalid value encountered in true_divide\n",
      "  n_ij -= 0.5 * np.sum(((X - self.theta_[i, :]) ** 2) /\n",
      "C:\\Users\\andre\\anaconda3\\envs\\signaler-exam\\lib\\site-packages\\sklearn\\naive_bayes.py:452: RuntimeWarning: divide by zero encountered in log\n",
      "  n_ij = - 0.5 * np.sum(np.log(2. * np.pi * self.sigma_[i, :]))\n",
      "C:\\Users\\andre\\anaconda3\\envs\\signaler-exam\\lib\\site-packages\\sklearn\\naive_bayes.py:453: RuntimeWarning: divide by zero encountered in true_divide\n",
      "  n_ij -= 0.5 * np.sum(((X - self.theta_[i, :]) ** 2) /\n",
      "C:\\Users\\andre\\anaconda3\\envs\\signaler-exam\\lib\\site-packages\\sklearn\\naive_bayes.py:453: RuntimeWarning: invalid value encountered in true_divide\n",
      "  n_ij -= 0.5 * np.sum(((X - self.theta_[i, :]) ** 2) /\n",
      "C:\\Users\\andre\\anaconda3\\envs\\signaler-exam\\lib\\site-packages\\sklearn\\naive_bayes.py:452: RuntimeWarning: divide by zero encountered in log\n",
      "  n_ij = - 0.5 * np.sum(np.log(2. * np.pi * self.sigma_[i, :]))\n",
      "C:\\Users\\andre\\anaconda3\\envs\\signaler-exam\\lib\\site-packages\\sklearn\\naive_bayes.py:453: RuntimeWarning: divide by zero encountered in true_divide\n",
      "  n_ij -= 0.5 * np.sum(((X - self.theta_[i, :]) ** 2) /\n",
      "C:\\Users\\andre\\anaconda3\\envs\\signaler-exam\\lib\\site-packages\\sklearn\\naive_bayes.py:453: RuntimeWarning: invalid value encountered in true_divide\n",
      "  n_ij -= 0.5 * np.sum(((X - self.theta_[i, :]) ** 2) /\n",
      "C:\\Users\\andre\\anaconda3\\envs\\signaler-exam\\lib\\site-packages\\sklearn\\naive_bayes.py:452: RuntimeWarning: divide by zero encountered in log\n",
      "  n_ij = - 0.5 * np.sum(np.log(2. * np.pi * self.sigma_[i, :]))\n",
      "C:\\Users\\andre\\anaconda3\\envs\\signaler-exam\\lib\\site-packages\\sklearn\\naive_bayes.py:453: RuntimeWarning: divide by zero encountered in true_divide\n",
      "  n_ij -= 0.5 * np.sum(((X - self.theta_[i, :]) ** 2) /\n",
      "C:\\Users\\andre\\anaconda3\\envs\\signaler-exam\\lib\\site-packages\\sklearn\\naive_bayes.py:453: RuntimeWarning: invalid value encountered in true_divide\n",
      "  n_ij -= 0.5 * np.sum(((X - self.theta_[i, :]) ** 2) /\n",
      "C:\\Users\\andre\\anaconda3\\envs\\signaler-exam\\lib\\site-packages\\sklearn\\naive_bayes.py:452: RuntimeWarning: divide by zero encountered in log\n",
      "  n_ij = - 0.5 * np.sum(np.log(2. * np.pi * self.sigma_[i, :]))\n",
      "C:\\Users\\andre\\anaconda3\\envs\\signaler-exam\\lib\\site-packages\\sklearn\\naive_bayes.py:453: RuntimeWarning: divide by zero encountered in true_divide\n",
      "  n_ij -= 0.5 * np.sum(((X - self.theta_[i, :]) ** 2) /\n",
      "C:\\Users\\andre\\anaconda3\\envs\\signaler-exam\\lib\\site-packages\\sklearn\\naive_bayes.py:453: RuntimeWarning: invalid value encountered in true_divide\n",
      "  n_ij -= 0.5 * np.sum(((X - self.theta_[i, :]) ** 2) /\n",
      "C:\\Users\\andre\\anaconda3\\envs\\signaler-exam\\lib\\site-packages\\sklearn\\naive_bayes.py:452: RuntimeWarning: divide by zero encountered in log\n",
      "  n_ij = - 0.5 * np.sum(np.log(2. * np.pi * self.sigma_[i, :]))\n",
      "C:\\Users\\andre\\anaconda3\\envs\\signaler-exam\\lib\\site-packages\\sklearn\\naive_bayes.py:453: RuntimeWarning: divide by zero encountered in true_divide\n",
      "  n_ij -= 0.5 * np.sum(((X - self.theta_[i, :]) ** 2) /\n",
      "C:\\Users\\andre\\anaconda3\\envs\\signaler-exam\\lib\\site-packages\\sklearn\\naive_bayes.py:453: RuntimeWarning: invalid value encountered in true_divide\n",
      "  n_ij -= 0.5 * np.sum(((X - self.theta_[i, :]) ** 2) /\n"
     ]
    },
    {
     "data": {
      "application/vnd.jupyter.widget-view+json": {
       "model_id": "",
       "version_major": 2,
       "version_minor": 0
      },
      "text/plain": [
       "Round (no. members) 1:   0%|          | 0/4 [00:00<?, ?it/s]"
      ]
     },
     "metadata": {},
     "output_type": "display_data"
    },
    {
     "data": {
      "application/vnd.jupyter.widget-view+json": {
       "model_id": "",
       "version_major": 2,
       "version_minor": 0
      },
      "text/plain": [
       "Points 1:   0%|          | 0/74 [00:00<?, ?it/s]"
      ]
     },
     "metadata": {},
     "output_type": "display_data"
    },
    {
     "name": "stderr",
     "output_type": "stream",
     "text": [
      "C:\\Users\\andre\\anaconda3\\envs\\signaler-exam\\lib\\site-packages\\sklearn\\naive_bayes.py:452: RuntimeWarning: divide by zero encountered in log\n",
      "  n_ij = - 0.5 * np.sum(np.log(2. * np.pi * self.sigma_[i, :]))\n",
      "C:\\Users\\andre\\anaconda3\\envs\\signaler-exam\\lib\\site-packages\\sklearn\\naive_bayes.py:453: RuntimeWarning: divide by zero encountered in true_divide\n",
      "  n_ij -= 0.5 * np.sum(((X - self.theta_[i, :]) ** 2) /\n",
      "C:\\Users\\andre\\anaconda3\\envs\\signaler-exam\\lib\\site-packages\\sklearn\\naive_bayes.py:453: RuntimeWarning: invalid value encountered in true_divide\n",
      "  n_ij -= 0.5 * np.sum(((X - self.theta_[i, :]) ** 2) /\n",
      "C:\\Users\\andre\\anaconda3\\envs\\signaler-exam\\lib\\site-packages\\sklearn\\naive_bayes.py:452: RuntimeWarning: divide by zero encountered in log\n",
      "  n_ij = - 0.5 * np.sum(np.log(2. * np.pi * self.sigma_[i, :]))\n",
      "C:\\Users\\andre\\anaconda3\\envs\\signaler-exam\\lib\\site-packages\\sklearn\\naive_bayes.py:453: RuntimeWarning: divide by zero encountered in true_divide\n",
      "  n_ij -= 0.5 * np.sum(((X - self.theta_[i, :]) ** 2) /\n",
      "C:\\Users\\andre\\anaconda3\\envs\\signaler-exam\\lib\\site-packages\\sklearn\\naive_bayes.py:453: RuntimeWarning: invalid value encountered in true_divide\n",
      "  n_ij -= 0.5 * np.sum(((X - self.theta_[i, :]) ** 2) /\n"
     ]
    },
    {
     "data": {
      "application/vnd.jupyter.widget-view+json": {
       "model_id": "",
       "version_major": 2,
       "version_minor": 0
      },
      "text/plain": [
       "Points 1:   0%|          | 0/74 [00:00<?, ?it/s]"
      ]
     },
     "metadata": {},
     "output_type": "display_data"
    },
    {
     "name": "stderr",
     "output_type": "stream",
     "text": [
      "C:\\Users\\andre\\anaconda3\\envs\\signaler-exam\\lib\\site-packages\\sklearn\\naive_bayes.py:452: RuntimeWarning: divide by zero encountered in log\n",
      "  n_ij = - 0.5 * np.sum(np.log(2. * np.pi * self.sigma_[i, :]))\n",
      "C:\\Users\\andre\\anaconda3\\envs\\signaler-exam\\lib\\site-packages\\sklearn\\naive_bayes.py:453: RuntimeWarning: divide by zero encountered in true_divide\n",
      "  n_ij -= 0.5 * np.sum(((X - self.theta_[i, :]) ** 2) /\n",
      "C:\\Users\\andre\\anaconda3\\envs\\signaler-exam\\lib\\site-packages\\sklearn\\naive_bayes.py:453: RuntimeWarning: invalid value encountered in true_divide\n",
      "  n_ij -= 0.5 * np.sum(((X - self.theta_[i, :]) ** 2) /\n",
      "C:\\Users\\andre\\anaconda3\\envs\\signaler-exam\\lib\\site-packages\\sklearn\\naive_bayes.py:452: RuntimeWarning: divide by zero encountered in log\n",
      "  n_ij = - 0.5 * np.sum(np.log(2. * np.pi * self.sigma_[i, :]))\n",
      "C:\\Users\\andre\\anaconda3\\envs\\signaler-exam\\lib\\site-packages\\sklearn\\naive_bayes.py:453: RuntimeWarning: divide by zero encountered in true_divide\n",
      "  n_ij -= 0.5 * np.sum(((X - self.theta_[i, :]) ** 2) /\n",
      "C:\\Users\\andre\\anaconda3\\envs\\signaler-exam\\lib\\site-packages\\sklearn\\naive_bayes.py:453: RuntimeWarning: invalid value encountered in true_divide\n",
      "  n_ij -= 0.5 * np.sum(((X - self.theta_[i, :]) ** 2) /\n",
      "C:\\Users\\andre\\anaconda3\\envs\\signaler-exam\\lib\\site-packages\\sklearn\\naive_bayes.py:452: RuntimeWarning: divide by zero encountered in log\n",
      "  n_ij = - 0.5 * np.sum(np.log(2. * np.pi * self.sigma_[i, :]))\n",
      "C:\\Users\\andre\\anaconda3\\envs\\signaler-exam\\lib\\site-packages\\sklearn\\naive_bayes.py:453: RuntimeWarning: divide by zero encountered in true_divide\n",
      "  n_ij -= 0.5 * np.sum(((X - self.theta_[i, :]) ** 2) /\n",
      "C:\\Users\\andre\\anaconda3\\envs\\signaler-exam\\lib\\site-packages\\sklearn\\naive_bayes.py:453: RuntimeWarning: invalid value encountered in true_divide\n",
      "  n_ij -= 0.5 * np.sum(((X - self.theta_[i, :]) ** 2) /\n",
      "C:\\Users\\andre\\anaconda3\\envs\\signaler-exam\\lib\\site-packages\\sklearn\\naive_bayes.py:452: RuntimeWarning: divide by zero encountered in log\n",
      "  n_ij = - 0.5 * np.sum(np.log(2. * np.pi * self.sigma_[i, :]))\n",
      "C:\\Users\\andre\\anaconda3\\envs\\signaler-exam\\lib\\site-packages\\sklearn\\naive_bayes.py:453: RuntimeWarning: divide by zero encountered in true_divide\n",
      "  n_ij -= 0.5 * np.sum(((X - self.theta_[i, :]) ** 2) /\n",
      "C:\\Users\\andre\\anaconda3\\envs\\signaler-exam\\lib\\site-packages\\sklearn\\naive_bayes.py:453: RuntimeWarning: invalid value encountered in true_divide\n",
      "  n_ij -= 0.5 * np.sum(((X - self.theta_[i, :]) ** 2) /\n"
     ]
    },
    {
     "data": {
      "application/vnd.jupyter.widget-view+json": {
       "model_id": "",
       "version_major": 2,
       "version_minor": 0
      },
      "text/plain": [
       "Points 1:   0%|          | 0/74 [00:00<?, ?it/s]"
      ]
     },
     "metadata": {},
     "output_type": "display_data"
    },
    {
     "name": "stderr",
     "output_type": "stream",
     "text": [
      "C:\\Users\\andre\\anaconda3\\envs\\signaler-exam\\lib\\site-packages\\sklearn\\naive_bayes.py:452: RuntimeWarning: divide by zero encountered in log\n",
      "  n_ij = - 0.5 * np.sum(np.log(2. * np.pi * self.sigma_[i, :]))\n",
      "C:\\Users\\andre\\anaconda3\\envs\\signaler-exam\\lib\\site-packages\\sklearn\\naive_bayes.py:453: RuntimeWarning: divide by zero encountered in true_divide\n",
      "  n_ij -= 0.5 * np.sum(((X - self.theta_[i, :]) ** 2) /\n",
      "C:\\Users\\andre\\anaconda3\\envs\\signaler-exam\\lib\\site-packages\\sklearn\\naive_bayes.py:453: RuntimeWarning: invalid value encountered in true_divide\n",
      "  n_ij -= 0.5 * np.sum(((X - self.theta_[i, :]) ** 2) /\n",
      "C:\\Users\\andre\\anaconda3\\envs\\signaler-exam\\lib\\site-packages\\sklearn\\naive_bayes.py:452: RuntimeWarning: divide by zero encountered in log\n",
      "  n_ij = - 0.5 * np.sum(np.log(2. * np.pi * self.sigma_[i, :]))\n",
      "C:\\Users\\andre\\anaconda3\\envs\\signaler-exam\\lib\\site-packages\\sklearn\\naive_bayes.py:453: RuntimeWarning: divide by zero encountered in true_divide\n",
      "  n_ij -= 0.5 * np.sum(((X - self.theta_[i, :]) ** 2) /\n",
      "C:\\Users\\andre\\anaconda3\\envs\\signaler-exam\\lib\\site-packages\\sklearn\\naive_bayes.py:453: RuntimeWarning: invalid value encountered in true_divide\n",
      "  n_ij -= 0.5 * np.sum(((X - self.theta_[i, :]) ** 2) /\n",
      "C:\\Users\\andre\\anaconda3\\envs\\signaler-exam\\lib\\site-packages\\sklearn\\naive_bayes.py:452: RuntimeWarning: divide by zero encountered in log\n",
      "  n_ij = - 0.5 * np.sum(np.log(2. * np.pi * self.sigma_[i, :]))\n",
      "C:\\Users\\andre\\anaconda3\\envs\\signaler-exam\\lib\\site-packages\\sklearn\\naive_bayes.py:453: RuntimeWarning: divide by zero encountered in true_divide\n",
      "  n_ij -= 0.5 * np.sum(((X - self.theta_[i, :]) ** 2) /\n",
      "C:\\Users\\andre\\anaconda3\\envs\\signaler-exam\\lib\\site-packages\\sklearn\\naive_bayes.py:453: RuntimeWarning: invalid value encountered in true_divide\n",
      "  n_ij -= 0.5 * np.sum(((X - self.theta_[i, :]) ** 2) /\n",
      "C:\\Users\\andre\\anaconda3\\envs\\signaler-exam\\lib\\site-packages\\sklearn\\naive_bayes.py:452: RuntimeWarning: divide by zero encountered in log\n",
      "  n_ij = - 0.5 * np.sum(np.log(2. * np.pi * self.sigma_[i, :]))\n",
      "C:\\Users\\andre\\anaconda3\\envs\\signaler-exam\\lib\\site-packages\\sklearn\\naive_bayes.py:453: RuntimeWarning: divide by zero encountered in true_divide\n",
      "  n_ij -= 0.5 * np.sum(((X - self.theta_[i, :]) ** 2) /\n",
      "C:\\Users\\andre\\anaconda3\\envs\\signaler-exam\\lib\\site-packages\\sklearn\\naive_bayes.py:453: RuntimeWarning: invalid value encountered in true_divide\n",
      "  n_ij -= 0.5 * np.sum(((X - self.theta_[i, :]) ** 2) /\n",
      "C:\\Users\\andre\\anaconda3\\envs\\signaler-exam\\lib\\site-packages\\sklearn\\naive_bayes.py:452: RuntimeWarning: divide by zero encountered in log\n",
      "  n_ij = - 0.5 * np.sum(np.log(2. * np.pi * self.sigma_[i, :]))\n",
      "C:\\Users\\andre\\anaconda3\\envs\\signaler-exam\\lib\\site-packages\\sklearn\\naive_bayes.py:453: RuntimeWarning: divide by zero encountered in true_divide\n",
      "  n_ij -= 0.5 * np.sum(((X - self.theta_[i, :]) ** 2) /\n",
      "C:\\Users\\andre\\anaconda3\\envs\\signaler-exam\\lib\\site-packages\\sklearn\\naive_bayes.py:453: RuntimeWarning: invalid value encountered in true_divide\n",
      "  n_ij -= 0.5 * np.sum(((X - self.theta_[i, :]) ** 2) /\n",
      "C:\\Users\\andre\\anaconda3\\envs\\signaler-exam\\lib\\site-packages\\sklearn\\naive_bayes.py:452: RuntimeWarning: divide by zero encountered in log\n",
      "  n_ij = - 0.5 * np.sum(np.log(2. * np.pi * self.sigma_[i, :]))\n",
      "C:\\Users\\andre\\anaconda3\\envs\\signaler-exam\\lib\\site-packages\\sklearn\\naive_bayes.py:453: RuntimeWarning: divide by zero encountered in true_divide\n",
      "  n_ij -= 0.5 * np.sum(((X - self.theta_[i, :]) ** 2) /\n",
      "C:\\Users\\andre\\anaconda3\\envs\\signaler-exam\\lib\\site-packages\\sklearn\\naive_bayes.py:453: RuntimeWarning: invalid value encountered in true_divide\n",
      "  n_ij -= 0.5 * np.sum(((X - self.theta_[i, :]) ** 2) /\n",
      "C:\\Users\\andre\\anaconda3\\envs\\signaler-exam\\lib\\site-packages\\sklearn\\naive_bayes.py:452: RuntimeWarning: divide by zero encountered in log\n",
      "  n_ij = - 0.5 * np.sum(np.log(2. * np.pi * self.sigma_[i, :]))\n",
      "C:\\Users\\andre\\anaconda3\\envs\\signaler-exam\\lib\\site-packages\\sklearn\\naive_bayes.py:453: RuntimeWarning: divide by zero encountered in true_divide\n",
      "  n_ij -= 0.5 * np.sum(((X - self.theta_[i, :]) ** 2) /\n",
      "C:\\Users\\andre\\anaconda3\\envs\\signaler-exam\\lib\\site-packages\\sklearn\\naive_bayes.py:453: RuntimeWarning: invalid value encountered in true_divide\n",
      "  n_ij -= 0.5 * np.sum(((X - self.theta_[i, :]) ** 2) /\n",
      "C:\\Users\\andre\\anaconda3\\envs\\signaler-exam\\lib\\site-packages\\sklearn\\naive_bayes.py:452: RuntimeWarning: divide by zero encountered in log\n",
      "  n_ij = - 0.5 * np.sum(np.log(2. * np.pi * self.sigma_[i, :]))\n",
      "C:\\Users\\andre\\anaconda3\\envs\\signaler-exam\\lib\\site-packages\\sklearn\\naive_bayes.py:453: RuntimeWarning: divide by zero encountered in true_divide\n",
      "  n_ij -= 0.5 * np.sum(((X - self.theta_[i, :]) ** 2) /\n",
      "C:\\Users\\andre\\anaconda3\\envs\\signaler-exam\\lib\\site-packages\\sklearn\\naive_bayes.py:453: RuntimeWarning: invalid value encountered in true_divide\n",
      "  n_ij -= 0.5 * np.sum(((X - self.theta_[i, :]) ** 2) /\n"
     ]
    },
    {
     "data": {
      "application/vnd.jupyter.widget-view+json": {
       "model_id": "",
       "version_major": 2,
       "version_minor": 0
      },
      "text/plain": [
       "Points 1:   0%|          | 0/74 [00:00<?, ?it/s]"
      ]
     },
     "metadata": {},
     "output_type": "display_data"
    },
    {
     "name": "stderr",
     "output_type": "stream",
     "text": [
      "C:\\Users\\andre\\anaconda3\\envs\\signaler-exam\\lib\\site-packages\\sklearn\\naive_bayes.py:452: RuntimeWarning: divide by zero encountered in log\n",
      "  n_ij = - 0.5 * np.sum(np.log(2. * np.pi * self.sigma_[i, :]))\n",
      "C:\\Users\\andre\\anaconda3\\envs\\signaler-exam\\lib\\site-packages\\sklearn\\naive_bayes.py:453: RuntimeWarning: divide by zero encountered in true_divide\n",
      "  n_ij -= 0.5 * np.sum(((X - self.theta_[i, :]) ** 2) /\n",
      "C:\\Users\\andre\\anaconda3\\envs\\signaler-exam\\lib\\site-packages\\sklearn\\naive_bayes.py:453: RuntimeWarning: invalid value encountered in true_divide\n",
      "  n_ij -= 0.5 * np.sum(((X - self.theta_[i, :]) ** 2) /\n",
      "C:\\Users\\andre\\anaconda3\\envs\\signaler-exam\\lib\\site-packages\\sklearn\\naive_bayes.py:452: RuntimeWarning: divide by zero encountered in log\n",
      "  n_ij = - 0.5 * np.sum(np.log(2. * np.pi * self.sigma_[i, :]))\n",
      "C:\\Users\\andre\\anaconda3\\envs\\signaler-exam\\lib\\site-packages\\sklearn\\naive_bayes.py:453: RuntimeWarning: divide by zero encountered in true_divide\n",
      "  n_ij -= 0.5 * np.sum(((X - self.theta_[i, :]) ** 2) /\n",
      "C:\\Users\\andre\\anaconda3\\envs\\signaler-exam\\lib\\site-packages\\sklearn\\naive_bayes.py:453: RuntimeWarning: invalid value encountered in true_divide\n",
      "  n_ij -= 0.5 * np.sum(((X - self.theta_[i, :]) ** 2) /\n",
      "C:\\Users\\andre\\anaconda3\\envs\\signaler-exam\\lib\\site-packages\\sklearn\\naive_bayes.py:452: RuntimeWarning: divide by zero encountered in log\n",
      "  n_ij = - 0.5 * np.sum(np.log(2. * np.pi * self.sigma_[i, :]))\n",
      "C:\\Users\\andre\\anaconda3\\envs\\signaler-exam\\lib\\site-packages\\sklearn\\naive_bayes.py:453: RuntimeWarning: divide by zero encountered in true_divide\n",
      "  n_ij -= 0.5 * np.sum(((X - self.theta_[i, :]) ** 2) /\n",
      "C:\\Users\\andre\\anaconda3\\envs\\signaler-exam\\lib\\site-packages\\sklearn\\naive_bayes.py:453: RuntimeWarning: invalid value encountered in true_divide\n",
      "  n_ij -= 0.5 * np.sum(((X - self.theta_[i, :]) ** 2) /\n",
      "C:\\Users\\andre\\anaconda3\\envs\\signaler-exam\\lib\\site-packages\\sklearn\\naive_bayes.py:452: RuntimeWarning: divide by zero encountered in log\n",
      "  n_ij = - 0.5 * np.sum(np.log(2. * np.pi * self.sigma_[i, :]))\n",
      "C:\\Users\\andre\\anaconda3\\envs\\signaler-exam\\lib\\site-packages\\sklearn\\naive_bayes.py:453: RuntimeWarning: divide by zero encountered in true_divide\n",
      "  n_ij -= 0.5 * np.sum(((X - self.theta_[i, :]) ** 2) /\n",
      "C:\\Users\\andre\\anaconda3\\envs\\signaler-exam\\lib\\site-packages\\sklearn\\naive_bayes.py:453: RuntimeWarning: invalid value encountered in true_divide\n",
      "  n_ij -= 0.5 * np.sum(((X - self.theta_[i, :]) ** 2) /\n",
      "C:\\Users\\andre\\anaconda3\\envs\\signaler-exam\\lib\\site-packages\\sklearn\\naive_bayes.py:452: RuntimeWarning: divide by zero encountered in log\n",
      "  n_ij = - 0.5 * np.sum(np.log(2. * np.pi * self.sigma_[i, :]))\n",
      "C:\\Users\\andre\\anaconda3\\envs\\signaler-exam\\lib\\site-packages\\sklearn\\naive_bayes.py:453: RuntimeWarning: divide by zero encountered in true_divide\n",
      "  n_ij -= 0.5 * np.sum(((X - self.theta_[i, :]) ** 2) /\n",
      "C:\\Users\\andre\\anaconda3\\envs\\signaler-exam\\lib\\site-packages\\sklearn\\naive_bayes.py:453: RuntimeWarning: invalid value encountered in true_divide\n",
      "  n_ij -= 0.5 * np.sum(((X - self.theta_[i, :]) ** 2) /\n",
      "C:\\Users\\andre\\anaconda3\\envs\\signaler-exam\\lib\\site-packages\\sklearn\\naive_bayes.py:452: RuntimeWarning: divide by zero encountered in log\n",
      "  n_ij = - 0.5 * np.sum(np.log(2. * np.pi * self.sigma_[i, :]))\n",
      "C:\\Users\\andre\\anaconda3\\envs\\signaler-exam\\lib\\site-packages\\sklearn\\naive_bayes.py:453: RuntimeWarning: divide by zero encountered in true_divide\n",
      "  n_ij -= 0.5 * np.sum(((X - self.theta_[i, :]) ** 2) /\n",
      "C:\\Users\\andre\\anaconda3\\envs\\signaler-exam\\lib\\site-packages\\sklearn\\naive_bayes.py:453: RuntimeWarning: invalid value encountered in true_divide\n",
      "  n_ij -= 0.5 * np.sum(((X - self.theta_[i, :]) ** 2) /\n",
      "C:\\Users\\andre\\anaconda3\\envs\\signaler-exam\\lib\\site-packages\\sklearn\\naive_bayes.py:452: RuntimeWarning: divide by zero encountered in log\n",
      "  n_ij = - 0.5 * np.sum(np.log(2. * np.pi * self.sigma_[i, :]))\n",
      "C:\\Users\\andre\\anaconda3\\envs\\signaler-exam\\lib\\site-packages\\sklearn\\naive_bayes.py:453: RuntimeWarning: divide by zero encountered in true_divide\n",
      "  n_ij -= 0.5 * np.sum(((X - self.theta_[i, :]) ** 2) /\n",
      "C:\\Users\\andre\\anaconda3\\envs\\signaler-exam\\lib\\site-packages\\sklearn\\naive_bayes.py:453: RuntimeWarning: invalid value encountered in true_divide\n",
      "  n_ij -= 0.5 * np.sum(((X - self.theta_[i, :]) ** 2) /\n",
      "C:\\Users\\andre\\anaconda3\\envs\\signaler-exam\\lib\\site-packages\\sklearn\\naive_bayes.py:452: RuntimeWarning: divide by zero encountered in log\n",
      "  n_ij = - 0.5 * np.sum(np.log(2. * np.pi * self.sigma_[i, :]))\n",
      "C:\\Users\\andre\\anaconda3\\envs\\signaler-exam\\lib\\site-packages\\sklearn\\naive_bayes.py:453: RuntimeWarning: divide by zero encountered in true_divide\n",
      "  n_ij -= 0.5 * np.sum(((X - self.theta_[i, :]) ** 2) /\n",
      "C:\\Users\\andre\\anaconda3\\envs\\signaler-exam\\lib\\site-packages\\sklearn\\naive_bayes.py:453: RuntimeWarning: invalid value encountered in true_divide\n",
      "  n_ij -= 0.5 * np.sum(((X - self.theta_[i, :]) ** 2) /\n",
      "C:\\Users\\andre\\anaconda3\\envs\\signaler-exam\\lib\\site-packages\\sklearn\\naive_bayes.py:452: RuntimeWarning: divide by zero encountered in log\n",
      "  n_ij = - 0.5 * np.sum(np.log(2. * np.pi * self.sigma_[i, :]))\n",
      "C:\\Users\\andre\\anaconda3\\envs\\signaler-exam\\lib\\site-packages\\sklearn\\naive_bayes.py:453: RuntimeWarning: divide by zero encountered in true_divide\n",
      "  n_ij -= 0.5 * np.sum(((X - self.theta_[i, :]) ** 2) /\n",
      "C:\\Users\\andre\\anaconda3\\envs\\signaler-exam\\lib\\site-packages\\sklearn\\naive_bayes.py:453: RuntimeWarning: invalid value encountered in true_divide\n",
      "  n_ij -= 0.5 * np.sum(((X - self.theta_[i, :]) ** 2) /\n",
      "C:\\Users\\andre\\anaconda3\\envs\\signaler-exam\\lib\\site-packages\\sklearn\\naive_bayes.py:452: RuntimeWarning: divide by zero encountered in log\n",
      "  n_ij = - 0.5 * np.sum(np.log(2. * np.pi * self.sigma_[i, :]))\n",
      "C:\\Users\\andre\\anaconda3\\envs\\signaler-exam\\lib\\site-packages\\sklearn\\naive_bayes.py:453: RuntimeWarning: divide by zero encountered in true_divide\n",
      "  n_ij -= 0.5 * np.sum(((X - self.theta_[i, :]) ** 2) /\n",
      "C:\\Users\\andre\\anaconda3\\envs\\signaler-exam\\lib\\site-packages\\sklearn\\naive_bayes.py:453: RuntimeWarning: invalid value encountered in true_divide\n",
      "  n_ij -= 0.5 * np.sum(((X - self.theta_[i, :]) ** 2) /\n",
      "C:\\Users\\andre\\anaconda3\\envs\\signaler-exam\\lib\\site-packages\\sklearn\\naive_bayes.py:452: RuntimeWarning: divide by zero encountered in log\n",
      "  n_ij = - 0.5 * np.sum(np.log(2. * np.pi * self.sigma_[i, :]))\n",
      "C:\\Users\\andre\\anaconda3\\envs\\signaler-exam\\lib\\site-packages\\sklearn\\naive_bayes.py:453: RuntimeWarning: divide by zero encountered in true_divide\n",
      "  n_ij -= 0.5 * np.sum(((X - self.theta_[i, :]) ** 2) /\n",
      "C:\\Users\\andre\\anaconda3\\envs\\signaler-exam\\lib\\site-packages\\sklearn\\naive_bayes.py:453: RuntimeWarning: invalid value encountered in true_divide\n",
      "  n_ij -= 0.5 * np.sum(((X - self.theta_[i, :]) ** 2) /\n",
      "C:\\Users\\andre\\anaconda3\\envs\\signaler-exam\\lib\\site-packages\\sklearn\\naive_bayes.py:452: RuntimeWarning: divide by zero encountered in log\n",
      "  n_ij = - 0.5 * np.sum(np.log(2. * np.pi * self.sigma_[i, :]))\n",
      "C:\\Users\\andre\\anaconda3\\envs\\signaler-exam\\lib\\site-packages\\sklearn\\naive_bayes.py:453: RuntimeWarning: divide by zero encountered in true_divide\n",
      "  n_ij -= 0.5 * np.sum(((X - self.theta_[i, :]) ** 2) /\n",
      "C:\\Users\\andre\\anaconda3\\envs\\signaler-exam\\lib\\site-packages\\sklearn\\naive_bayes.py:453: RuntimeWarning: invalid value encountered in true_divide\n",
      "  n_ij -= 0.5 * np.sum(((X - self.theta_[i, :]) ** 2) /\n"
     ]
    },
    {
     "data": {
      "application/vnd.jupyter.widget-view+json": {
       "model_id": "",
       "version_major": 2,
       "version_minor": 0
      },
      "text/plain": [
       "Round (no. members) 2:   0%|          | 0/4 [00:00<?, ?it/s]"
      ]
     },
     "metadata": {},
     "output_type": "display_data"
    },
    {
     "data": {
      "application/vnd.jupyter.widget-view+json": {
       "model_id": "",
       "version_major": 2,
       "version_minor": 0
      },
      "text/plain": [
       "Points 2:   0%|          | 0/74 [00:00<?, ?it/s]"
      ]
     },
     "metadata": {},
     "output_type": "display_data"
    },
    {
     "name": "stderr",
     "output_type": "stream",
     "text": [
      "C:\\Users\\andre\\anaconda3\\envs\\signaler-exam\\lib\\site-packages\\sklearn\\naive_bayes.py:452: RuntimeWarning: divide by zero encountered in log\n",
      "  n_ij = - 0.5 * np.sum(np.log(2. * np.pi * self.sigma_[i, :]))\n",
      "C:\\Users\\andre\\anaconda3\\envs\\signaler-exam\\lib\\site-packages\\sklearn\\naive_bayes.py:453: RuntimeWarning: divide by zero encountered in true_divide\n",
      "  n_ij -= 0.5 * np.sum(((X - self.theta_[i, :]) ** 2) /\n",
      "C:\\Users\\andre\\anaconda3\\envs\\signaler-exam\\lib\\site-packages\\sklearn\\naive_bayes.py:453: RuntimeWarning: invalid value encountered in true_divide\n",
      "  n_ij -= 0.5 * np.sum(((X - self.theta_[i, :]) ** 2) /\n",
      "C:\\Users\\andre\\anaconda3\\envs\\signaler-exam\\lib\\site-packages\\sklearn\\naive_bayes.py:452: RuntimeWarning: divide by zero encountered in log\n",
      "  n_ij = - 0.5 * np.sum(np.log(2. * np.pi * self.sigma_[i, :]))\n",
      "C:\\Users\\andre\\anaconda3\\envs\\signaler-exam\\lib\\site-packages\\sklearn\\naive_bayes.py:453: RuntimeWarning: divide by zero encountered in true_divide\n",
      "  n_ij -= 0.5 * np.sum(((X - self.theta_[i, :]) ** 2) /\n",
      "C:\\Users\\andre\\anaconda3\\envs\\signaler-exam\\lib\\site-packages\\sklearn\\naive_bayes.py:453: RuntimeWarning: invalid value encountered in true_divide\n",
      "  n_ij -= 0.5 * np.sum(((X - self.theta_[i, :]) ** 2) /\n"
     ]
    },
    {
     "data": {
      "application/vnd.jupyter.widget-view+json": {
       "model_id": "",
       "version_major": 2,
       "version_minor": 0
      },
      "text/plain": [
       "Points 2:   0%|          | 0/74 [00:00<?, ?it/s]"
      ]
     },
     "metadata": {},
     "output_type": "display_data"
    },
    {
     "name": "stderr",
     "output_type": "stream",
     "text": [
      "C:\\Users\\andre\\anaconda3\\envs\\signaler-exam\\lib\\site-packages\\sklearn\\naive_bayes.py:452: RuntimeWarning: divide by zero encountered in log\n",
      "  n_ij = - 0.5 * np.sum(np.log(2. * np.pi * self.sigma_[i, :]))\n",
      "C:\\Users\\andre\\anaconda3\\envs\\signaler-exam\\lib\\site-packages\\sklearn\\naive_bayes.py:453: RuntimeWarning: divide by zero encountered in true_divide\n",
      "  n_ij -= 0.5 * np.sum(((X - self.theta_[i, :]) ** 2) /\n",
      "C:\\Users\\andre\\anaconda3\\envs\\signaler-exam\\lib\\site-packages\\sklearn\\naive_bayes.py:453: RuntimeWarning: invalid value encountered in true_divide\n",
      "  n_ij -= 0.5 * np.sum(((X - self.theta_[i, :]) ** 2) /\n",
      "C:\\Users\\andre\\anaconda3\\envs\\signaler-exam\\lib\\site-packages\\sklearn\\naive_bayes.py:452: RuntimeWarning: divide by zero encountered in log\n",
      "  n_ij = - 0.5 * np.sum(np.log(2. * np.pi * self.sigma_[i, :]))\n",
      "C:\\Users\\andre\\anaconda3\\envs\\signaler-exam\\lib\\site-packages\\sklearn\\naive_bayes.py:453: RuntimeWarning: divide by zero encountered in true_divide\n",
      "  n_ij -= 0.5 * np.sum(((X - self.theta_[i, :]) ** 2) /\n",
      "C:\\Users\\andre\\anaconda3\\envs\\signaler-exam\\lib\\site-packages\\sklearn\\naive_bayes.py:453: RuntimeWarning: invalid value encountered in true_divide\n",
      "  n_ij -= 0.5 * np.sum(((X - self.theta_[i, :]) ** 2) /\n",
      "C:\\Users\\andre\\anaconda3\\envs\\signaler-exam\\lib\\site-packages\\sklearn\\naive_bayes.py:452: RuntimeWarning: divide by zero encountered in log\n",
      "  n_ij = - 0.5 * np.sum(np.log(2. * np.pi * self.sigma_[i, :]))\n",
      "C:\\Users\\andre\\anaconda3\\envs\\signaler-exam\\lib\\site-packages\\sklearn\\naive_bayes.py:453: RuntimeWarning: divide by zero encountered in true_divide\n",
      "  n_ij -= 0.5 * np.sum(((X - self.theta_[i, :]) ** 2) /\n",
      "C:\\Users\\andre\\anaconda3\\envs\\signaler-exam\\lib\\site-packages\\sklearn\\naive_bayes.py:453: RuntimeWarning: invalid value encountered in true_divide\n",
      "  n_ij -= 0.5 * np.sum(((X - self.theta_[i, :]) ** 2) /\n",
      "C:\\Users\\andre\\anaconda3\\envs\\signaler-exam\\lib\\site-packages\\sklearn\\naive_bayes.py:452: RuntimeWarning: divide by zero encountered in log\n",
      "  n_ij = - 0.5 * np.sum(np.log(2. * np.pi * self.sigma_[i, :]))\n",
      "C:\\Users\\andre\\anaconda3\\envs\\signaler-exam\\lib\\site-packages\\sklearn\\naive_bayes.py:453: RuntimeWarning: divide by zero encountered in true_divide\n",
      "  n_ij -= 0.5 * np.sum(((X - self.theta_[i, :]) ** 2) /\n",
      "C:\\Users\\andre\\anaconda3\\envs\\signaler-exam\\lib\\site-packages\\sklearn\\naive_bayes.py:453: RuntimeWarning: invalid value encountered in true_divide\n",
      "  n_ij -= 0.5 * np.sum(((X - self.theta_[i, :]) ** 2) /\n"
     ]
    },
    {
     "data": {
      "application/vnd.jupyter.widget-view+json": {
       "model_id": "",
       "version_major": 2,
       "version_minor": 0
      },
      "text/plain": [
       "Points 2:   0%|          | 0/74 [00:00<?, ?it/s]"
      ]
     },
     "metadata": {},
     "output_type": "display_data"
    },
    {
     "name": "stderr",
     "output_type": "stream",
     "text": [
      "C:\\Users\\andre\\anaconda3\\envs\\signaler-exam\\lib\\site-packages\\sklearn\\naive_bayes.py:452: RuntimeWarning: divide by zero encountered in log\n",
      "  n_ij = - 0.5 * np.sum(np.log(2. * np.pi * self.sigma_[i, :]))\n",
      "C:\\Users\\andre\\anaconda3\\envs\\signaler-exam\\lib\\site-packages\\sklearn\\naive_bayes.py:453: RuntimeWarning: divide by zero encountered in true_divide\n",
      "  n_ij -= 0.5 * np.sum(((X - self.theta_[i, :]) ** 2) /\n",
      "C:\\Users\\andre\\anaconda3\\envs\\signaler-exam\\lib\\site-packages\\sklearn\\naive_bayes.py:453: RuntimeWarning: invalid value encountered in true_divide\n",
      "  n_ij -= 0.5 * np.sum(((X - self.theta_[i, :]) ** 2) /\n",
      "C:\\Users\\andre\\anaconda3\\envs\\signaler-exam\\lib\\site-packages\\sklearn\\naive_bayes.py:452: RuntimeWarning: divide by zero encountered in log\n",
      "  n_ij = - 0.5 * np.sum(np.log(2. * np.pi * self.sigma_[i, :]))\n",
      "C:\\Users\\andre\\anaconda3\\envs\\signaler-exam\\lib\\site-packages\\sklearn\\naive_bayes.py:453: RuntimeWarning: divide by zero encountered in true_divide\n",
      "  n_ij -= 0.5 * np.sum(((X - self.theta_[i, :]) ** 2) /\n",
      "C:\\Users\\andre\\anaconda3\\envs\\signaler-exam\\lib\\site-packages\\sklearn\\naive_bayes.py:453: RuntimeWarning: invalid value encountered in true_divide\n",
      "  n_ij -= 0.5 * np.sum(((X - self.theta_[i, :]) ** 2) /\n",
      "C:\\Users\\andre\\anaconda3\\envs\\signaler-exam\\lib\\site-packages\\sklearn\\naive_bayes.py:452: RuntimeWarning: divide by zero encountered in log\n",
      "  n_ij = - 0.5 * np.sum(np.log(2. * np.pi * self.sigma_[i, :]))\n",
      "C:\\Users\\andre\\anaconda3\\envs\\signaler-exam\\lib\\site-packages\\sklearn\\naive_bayes.py:453: RuntimeWarning: divide by zero encountered in true_divide\n",
      "  n_ij -= 0.5 * np.sum(((X - self.theta_[i, :]) ** 2) /\n",
      "C:\\Users\\andre\\anaconda3\\envs\\signaler-exam\\lib\\site-packages\\sklearn\\naive_bayes.py:453: RuntimeWarning: invalid value encountered in true_divide\n",
      "  n_ij -= 0.5 * np.sum(((X - self.theta_[i, :]) ** 2) /\n",
      "C:\\Users\\andre\\anaconda3\\envs\\signaler-exam\\lib\\site-packages\\sklearn\\naive_bayes.py:452: RuntimeWarning: divide by zero encountered in log\n",
      "  n_ij = - 0.5 * np.sum(np.log(2. * np.pi * self.sigma_[i, :]))\n",
      "C:\\Users\\andre\\anaconda3\\envs\\signaler-exam\\lib\\site-packages\\sklearn\\naive_bayes.py:453: RuntimeWarning: divide by zero encountered in true_divide\n",
      "  n_ij -= 0.5 * np.sum(((X - self.theta_[i, :]) ** 2) /\n",
      "C:\\Users\\andre\\anaconda3\\envs\\signaler-exam\\lib\\site-packages\\sklearn\\naive_bayes.py:453: RuntimeWarning: invalid value encountered in true_divide\n",
      "  n_ij -= 0.5 * np.sum(((X - self.theta_[i, :]) ** 2) /\n",
      "C:\\Users\\andre\\anaconda3\\envs\\signaler-exam\\lib\\site-packages\\sklearn\\naive_bayes.py:452: RuntimeWarning: divide by zero encountered in log\n",
      "  n_ij = - 0.5 * np.sum(np.log(2. * np.pi * self.sigma_[i, :]))\n",
      "C:\\Users\\andre\\anaconda3\\envs\\signaler-exam\\lib\\site-packages\\sklearn\\naive_bayes.py:453: RuntimeWarning: divide by zero encountered in true_divide\n",
      "  n_ij -= 0.5 * np.sum(((X - self.theta_[i, :]) ** 2) /\n",
      "C:\\Users\\andre\\anaconda3\\envs\\signaler-exam\\lib\\site-packages\\sklearn\\naive_bayes.py:453: RuntimeWarning: invalid value encountered in true_divide\n",
      "  n_ij -= 0.5 * np.sum(((X - self.theta_[i, :]) ** 2) /\n",
      "C:\\Users\\andre\\anaconda3\\envs\\signaler-exam\\lib\\site-packages\\sklearn\\naive_bayes.py:452: RuntimeWarning: divide by zero encountered in log\n",
      "  n_ij = - 0.5 * np.sum(np.log(2. * np.pi * self.sigma_[i, :]))\n",
      "C:\\Users\\andre\\anaconda3\\envs\\signaler-exam\\lib\\site-packages\\sklearn\\naive_bayes.py:453: RuntimeWarning: divide by zero encountered in true_divide\n",
      "  n_ij -= 0.5 * np.sum(((X - self.theta_[i, :]) ** 2) /\n",
      "C:\\Users\\andre\\anaconda3\\envs\\signaler-exam\\lib\\site-packages\\sklearn\\naive_bayes.py:453: RuntimeWarning: invalid value encountered in true_divide\n",
      "  n_ij -= 0.5 * np.sum(((X - self.theta_[i, :]) ** 2) /\n",
      "C:\\Users\\andre\\anaconda3\\envs\\signaler-exam\\lib\\site-packages\\sklearn\\naive_bayes.py:452: RuntimeWarning: divide by zero encountered in log\n",
      "  n_ij = - 0.5 * np.sum(np.log(2. * np.pi * self.sigma_[i, :]))\n",
      "C:\\Users\\andre\\anaconda3\\envs\\signaler-exam\\lib\\site-packages\\sklearn\\naive_bayes.py:453: RuntimeWarning: divide by zero encountered in true_divide\n",
      "  n_ij -= 0.5 * np.sum(((X - self.theta_[i, :]) ** 2) /\n",
      "C:\\Users\\andre\\anaconda3\\envs\\signaler-exam\\lib\\site-packages\\sklearn\\naive_bayes.py:453: RuntimeWarning: invalid value encountered in true_divide\n",
      "  n_ij -= 0.5 * np.sum(((X - self.theta_[i, :]) ** 2) /\n",
      "C:\\Users\\andre\\anaconda3\\envs\\signaler-exam\\lib\\site-packages\\sklearn\\naive_bayes.py:452: RuntimeWarning: divide by zero encountered in log\n",
      "  n_ij = - 0.5 * np.sum(np.log(2. * np.pi * self.sigma_[i, :]))\n",
      "C:\\Users\\andre\\anaconda3\\envs\\signaler-exam\\lib\\site-packages\\sklearn\\naive_bayes.py:453: RuntimeWarning: divide by zero encountered in true_divide\n",
      "  n_ij -= 0.5 * np.sum(((X - self.theta_[i, :]) ** 2) /\n",
      "C:\\Users\\andre\\anaconda3\\envs\\signaler-exam\\lib\\site-packages\\sklearn\\naive_bayes.py:453: RuntimeWarning: invalid value encountered in true_divide\n",
      "  n_ij -= 0.5 * np.sum(((X - self.theta_[i, :]) ** 2) /\n"
     ]
    },
    {
     "data": {
      "application/vnd.jupyter.widget-view+json": {
       "model_id": "",
       "version_major": 2,
       "version_minor": 0
      },
      "text/plain": [
       "Points 2:   0%|          | 0/74 [00:00<?, ?it/s]"
      ]
     },
     "metadata": {},
     "output_type": "display_data"
    },
    {
     "name": "stderr",
     "output_type": "stream",
     "text": [
      "C:\\Users\\andre\\anaconda3\\envs\\signaler-exam\\lib\\site-packages\\sklearn\\naive_bayes.py:452: RuntimeWarning: divide by zero encountered in log\n",
      "  n_ij = - 0.5 * np.sum(np.log(2. * np.pi * self.sigma_[i, :]))\n",
      "C:\\Users\\andre\\anaconda3\\envs\\signaler-exam\\lib\\site-packages\\sklearn\\naive_bayes.py:453: RuntimeWarning: divide by zero encountered in true_divide\n",
      "  n_ij -= 0.5 * np.sum(((X - self.theta_[i, :]) ** 2) /\n",
      "C:\\Users\\andre\\anaconda3\\envs\\signaler-exam\\lib\\site-packages\\sklearn\\naive_bayes.py:453: RuntimeWarning: invalid value encountered in true_divide\n",
      "  n_ij -= 0.5 * np.sum(((X - self.theta_[i, :]) ** 2) /\n",
      "C:\\Users\\andre\\anaconda3\\envs\\signaler-exam\\lib\\site-packages\\sklearn\\naive_bayes.py:452: RuntimeWarning: divide by zero encountered in log\n",
      "  n_ij = - 0.5 * np.sum(np.log(2. * np.pi * self.sigma_[i, :]))\n",
      "C:\\Users\\andre\\anaconda3\\envs\\signaler-exam\\lib\\site-packages\\sklearn\\naive_bayes.py:453: RuntimeWarning: divide by zero encountered in true_divide\n",
      "  n_ij -= 0.5 * np.sum(((X - self.theta_[i, :]) ** 2) /\n",
      "C:\\Users\\andre\\anaconda3\\envs\\signaler-exam\\lib\\site-packages\\sklearn\\naive_bayes.py:453: RuntimeWarning: invalid value encountered in true_divide\n",
      "  n_ij -= 0.5 * np.sum(((X - self.theta_[i, :]) ** 2) /\n",
      "C:\\Users\\andre\\anaconda3\\envs\\signaler-exam\\lib\\site-packages\\sklearn\\naive_bayes.py:452: RuntimeWarning: divide by zero encountered in log\n",
      "  n_ij = - 0.5 * np.sum(np.log(2. * np.pi * self.sigma_[i, :]))\n",
      "C:\\Users\\andre\\anaconda3\\envs\\signaler-exam\\lib\\site-packages\\sklearn\\naive_bayes.py:453: RuntimeWarning: divide by zero encountered in true_divide\n",
      "  n_ij -= 0.5 * np.sum(((X - self.theta_[i, :]) ** 2) /\n",
      "C:\\Users\\andre\\anaconda3\\envs\\signaler-exam\\lib\\site-packages\\sklearn\\naive_bayes.py:453: RuntimeWarning: invalid value encountered in true_divide\n",
      "  n_ij -= 0.5 * np.sum(((X - self.theta_[i, :]) ** 2) /\n",
      "C:\\Users\\andre\\anaconda3\\envs\\signaler-exam\\lib\\site-packages\\sklearn\\naive_bayes.py:452: RuntimeWarning: divide by zero encountered in log\n",
      "  n_ij = - 0.5 * np.sum(np.log(2. * np.pi * self.sigma_[i, :]))\n",
      "C:\\Users\\andre\\anaconda3\\envs\\signaler-exam\\lib\\site-packages\\sklearn\\naive_bayes.py:453: RuntimeWarning: divide by zero encountered in true_divide\n",
      "  n_ij -= 0.5 * np.sum(((X - self.theta_[i, :]) ** 2) /\n",
      "C:\\Users\\andre\\anaconda3\\envs\\signaler-exam\\lib\\site-packages\\sklearn\\naive_bayes.py:453: RuntimeWarning: invalid value encountered in true_divide\n",
      "  n_ij -= 0.5 * np.sum(((X - self.theta_[i, :]) ** 2) /\n",
      "C:\\Users\\andre\\anaconda3\\envs\\signaler-exam\\lib\\site-packages\\sklearn\\naive_bayes.py:452: RuntimeWarning: divide by zero encountered in log\n",
      "  n_ij = - 0.5 * np.sum(np.log(2. * np.pi * self.sigma_[i, :]))\n",
      "C:\\Users\\andre\\anaconda3\\envs\\signaler-exam\\lib\\site-packages\\sklearn\\naive_bayes.py:453: RuntimeWarning: divide by zero encountered in true_divide\n",
      "  n_ij -= 0.5 * np.sum(((X - self.theta_[i, :]) ** 2) /\n",
      "C:\\Users\\andre\\anaconda3\\envs\\signaler-exam\\lib\\site-packages\\sklearn\\naive_bayes.py:453: RuntimeWarning: invalid value encountered in true_divide\n",
      "  n_ij -= 0.5 * np.sum(((X - self.theta_[i, :]) ** 2) /\n",
      "C:\\Users\\andre\\anaconda3\\envs\\signaler-exam\\lib\\site-packages\\sklearn\\naive_bayes.py:452: RuntimeWarning: divide by zero encountered in log\n",
      "  n_ij = - 0.5 * np.sum(np.log(2. * np.pi * self.sigma_[i, :]))\n",
      "C:\\Users\\andre\\anaconda3\\envs\\signaler-exam\\lib\\site-packages\\sklearn\\naive_bayes.py:453: RuntimeWarning: divide by zero encountered in true_divide\n",
      "  n_ij -= 0.5 * np.sum(((X - self.theta_[i, :]) ** 2) /\n",
      "C:\\Users\\andre\\anaconda3\\envs\\signaler-exam\\lib\\site-packages\\sklearn\\naive_bayes.py:453: RuntimeWarning: invalid value encountered in true_divide\n",
      "  n_ij -= 0.5 * np.sum(((X - self.theta_[i, :]) ** 2) /\n",
      "C:\\Users\\andre\\anaconda3\\envs\\signaler-exam\\lib\\site-packages\\sklearn\\naive_bayes.py:452: RuntimeWarning: divide by zero encountered in log\n",
      "  n_ij = - 0.5 * np.sum(np.log(2. * np.pi * self.sigma_[i, :]))\n",
      "C:\\Users\\andre\\anaconda3\\envs\\signaler-exam\\lib\\site-packages\\sklearn\\naive_bayes.py:453: RuntimeWarning: divide by zero encountered in true_divide\n",
      "  n_ij -= 0.5 * np.sum(((X - self.theta_[i, :]) ** 2) /\n",
      "C:\\Users\\andre\\anaconda3\\envs\\signaler-exam\\lib\\site-packages\\sklearn\\naive_bayes.py:453: RuntimeWarning: invalid value encountered in true_divide\n",
      "  n_ij -= 0.5 * np.sum(((X - self.theta_[i, :]) ** 2) /\n",
      "C:\\Users\\andre\\anaconda3\\envs\\signaler-exam\\lib\\site-packages\\sklearn\\naive_bayes.py:452: RuntimeWarning: divide by zero encountered in log\n",
      "  n_ij = - 0.5 * np.sum(np.log(2. * np.pi * self.sigma_[i, :]))\n",
      "C:\\Users\\andre\\anaconda3\\envs\\signaler-exam\\lib\\site-packages\\sklearn\\naive_bayes.py:453: RuntimeWarning: divide by zero encountered in true_divide\n",
      "  n_ij -= 0.5 * np.sum(((X - self.theta_[i, :]) ** 2) /\n",
      "C:\\Users\\andre\\anaconda3\\envs\\signaler-exam\\lib\\site-packages\\sklearn\\naive_bayes.py:453: RuntimeWarning: invalid value encountered in true_divide\n",
      "  n_ij -= 0.5 * np.sum(((X - self.theta_[i, :]) ** 2) /\n",
      "C:\\Users\\andre\\anaconda3\\envs\\signaler-exam\\lib\\site-packages\\sklearn\\naive_bayes.py:452: RuntimeWarning: divide by zero encountered in log\n",
      "  n_ij = - 0.5 * np.sum(np.log(2. * np.pi * self.sigma_[i, :]))\n",
      "C:\\Users\\andre\\anaconda3\\envs\\signaler-exam\\lib\\site-packages\\sklearn\\naive_bayes.py:453: RuntimeWarning: divide by zero encountered in true_divide\n",
      "  n_ij -= 0.5 * np.sum(((X - self.theta_[i, :]) ** 2) /\n",
      "C:\\Users\\andre\\anaconda3\\envs\\signaler-exam\\lib\\site-packages\\sklearn\\naive_bayes.py:453: RuntimeWarning: invalid value encountered in true_divide\n",
      "  n_ij -= 0.5 * np.sum(((X - self.theta_[i, :]) ** 2) /\n",
      "C:\\Users\\andre\\anaconda3\\envs\\signaler-exam\\lib\\site-packages\\sklearn\\naive_bayes.py:452: RuntimeWarning: divide by zero encountered in log\n",
      "  n_ij = - 0.5 * np.sum(np.log(2. * np.pi * self.sigma_[i, :]))\n",
      "C:\\Users\\andre\\anaconda3\\envs\\signaler-exam\\lib\\site-packages\\sklearn\\naive_bayes.py:453: RuntimeWarning: divide by zero encountered in true_divide\n",
      "  n_ij -= 0.5 * np.sum(((X - self.theta_[i, :]) ** 2) /\n",
      "C:\\Users\\andre\\anaconda3\\envs\\signaler-exam\\lib\\site-packages\\sklearn\\naive_bayes.py:453: RuntimeWarning: invalid value encountered in true_divide\n",
      "  n_ij -= 0.5 * np.sum(((X - self.theta_[i, :]) ** 2) /\n",
      "C:\\Users\\andre\\anaconda3\\envs\\signaler-exam\\lib\\site-packages\\sklearn\\naive_bayes.py:452: RuntimeWarning: divide by zero encountered in log\n",
      "  n_ij = - 0.5 * np.sum(np.log(2. * np.pi * self.sigma_[i, :]))\n",
      "C:\\Users\\andre\\anaconda3\\envs\\signaler-exam\\lib\\site-packages\\sklearn\\naive_bayes.py:453: RuntimeWarning: divide by zero encountered in true_divide\n",
      "  n_ij -= 0.5 * np.sum(((X - self.theta_[i, :]) ** 2) /\n",
      "C:\\Users\\andre\\anaconda3\\envs\\signaler-exam\\lib\\site-packages\\sklearn\\naive_bayes.py:453: RuntimeWarning: invalid value encountered in true_divide\n",
      "  n_ij -= 0.5 * np.sum(((X - self.theta_[i, :]) ** 2) /\n",
      "C:\\Users\\andre\\anaconda3\\envs\\signaler-exam\\lib\\site-packages\\sklearn\\naive_bayes.py:452: RuntimeWarning: divide by zero encountered in log\n",
      "  n_ij = - 0.5 * np.sum(np.log(2. * np.pi * self.sigma_[i, :]))\n",
      "C:\\Users\\andre\\anaconda3\\envs\\signaler-exam\\lib\\site-packages\\sklearn\\naive_bayes.py:453: RuntimeWarning: divide by zero encountered in true_divide\n",
      "  n_ij -= 0.5 * np.sum(((X - self.theta_[i, :]) ** 2) /\n",
      "C:\\Users\\andre\\anaconda3\\envs\\signaler-exam\\lib\\site-packages\\sklearn\\naive_bayes.py:453: RuntimeWarning: invalid value encountered in true_divide\n",
      "  n_ij -= 0.5 * np.sum(((X - self.theta_[i, :]) ** 2) /\n"
     ]
    }
   ],
   "source": [
    "# SEQUENTIAL VERSION OF THE NEXT CELL\n",
    "# SLOWER BUT EASIER TO USE IF YOU ARE UNFAMILIAR WITH PARALLEL PROGRAMMING IN PYTHON\n",
    "\n",
    "committee_results = []\n",
    "\n",
    "for i_repeat in tqdm(range(n_repeats)):\n",
    "    for i_members in tqdm(n_members, desc=f'Round (no. members) {i_repeat}',leave=False):\n",
    "        X_pool = X_train.copy()\n",
    "        y_pool = y_train.copy()\n",
    "\n",
    "        start_indices = permutations[i_repeat][:1]\n",
    "\n",
    "        committee_members = [ActiveLearner(estimator=ModelClass(),\n",
    "                                           X_training=X_train[start_indices, :],\n",
    "                                           y_training=y_train[start_indices],\n",
    "                                           ) for _ in range(i_members)]\n",
    "\n",
    "        committee = Committee(learner_list=committee_members,\n",
    "                              query_strategy=vote_entropy_sampling)\n",
    "\n",
    "        X_pool = np.delete(X_pool, start_indices, axis=0)\n",
    "        y_pool = np.delete(y_pool, start_indices)\n",
    "\n",
    "        for i_query in tqdm(range(1, n_queries),desc=f'Points {i_repeat}',leave=False):\n",
    "            query_idx, query_instance = committee.query(X_pool)\n",
    "\n",
    "            committee.teach(\n",
    "                X=X_pool[query_idx].reshape(1, -1),\n",
    "                y=y_pool[query_idx].reshape(1, )\n",
    "            )\n",
    "            committee._set_classes() #this is needed to update for unknown class labels\n",
    "\n",
    "            X_pool = np.delete(X_pool, query_idx, axis=0)\n",
    "            y_pool = np.delete(y_pool, query_idx)\n",
    "\n",
    "            score = committee.score(X_test, y_test)\n",
    "\n",
    "            committee_results.append(ResultsRecord(\n",
    "                f'committe_{i_members}',\n",
    "                i_query,\n",
    "                score))\n"
   ]
  },
  {
   "cell_type": "markdown",
   "id": "9f349d22",
   "metadata": {},
   "source": [
    "## Compare results"
   ]
  },
  {
   "cell_type": "code",
   "execution_count": 48,
   "id": "839cf340",
   "metadata": {},
   "outputs": [],
   "source": [
    "df_results = pd.concat([pd.DataFrame(results)\n",
    "                        for results in\n",
    "                        [random_results, committee_results]])"
   ]
  },
  {
   "cell_type": "code",
   "execution_count": 49,
   "id": "391d939f",
   "metadata": {},
   "outputs": [
    {
     "data": {
      "image/png": "[encoded data removed]",
      "text/plain": [
       "<Figure size 612x432 with 1 Axes>"
      ]
     },
     "metadata": {
      "needs_background": "light"
     },
     "output_type": "display_data"
    }
   ],
   "source": [
    "\n",
    "df_results_mean=df_results.groupby(['estimator','query_id']).mean()\n",
    "df_results_std=df_results.groupby(['estimator','query_id']).std()\n",
    "\n",
    "df_mean=df_results_mean.reset_index().pivot(index='query_id', columns='estimator', values='score')\n",
    "df_std=df_results_std.reset_index().pivot(index='query_id', columns='estimator', values='score')\n",
    "\n",
    "df_mean.plot(figsize=(8.5,6), yerr=df_std)\n",
    "plt.grid('on')"
   ]
  }
 ],
 "metadata": {
  "kernelspec": {
   "display_name": "Python 3",
   "language": "python",
   "name": "python3"
  },
  "language_info": {
   "codemirror_mode": {
    "name": "ipython",
    "version": 3
   },
   "file_extension": ".py",
   "mimetype": "text/x-python",
   "name": "python",
   "nbconvert_exporter": "python",
   "pygments_lexer": "ipython3",
   "version": "3.8.8"
  }
 },
 "nbformat": 4,
 "nbformat_minor": 5
}
