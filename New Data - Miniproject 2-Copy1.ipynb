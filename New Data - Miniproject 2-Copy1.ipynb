{
 "cells": [
  {
   "cell_type": "markdown",
   "id": "092a6741",
   "metadata": {},
   "source": [
    "# IMPORT"
   ]
  },
  {
   "cell_type": "code",
   "execution_count": 10,
   "id": "2f4e2298",
   "metadata": {},
   "outputs": [],
   "source": [
    "from sklearn.datasets import load_iris\n",
    "from sklearn.model_selection import train_test_split\n",
    "from sklearn.naive_bayes import GaussianNB\n",
    "\n",
    "import numpy as np\n",
    "import pandas as pd\n",
    "import torch\n",
    "from torch.autograd import Variable\n",
    "from torch.nn import Linear, ReLU, CrossEntropyLoss, Sequential, Conv2d, MaxPool2d, Module, Softmax, BatchNorm2d, Dropout\n",
    "from torch.optim import Adam, SGD\n",
    "import GPyOpt\n",
    "from timeit import default_timer as timer\n",
    "\n",
    "from sklearn.datasets import load_iris\n",
    "from sklearn.linear_model import LogisticRegression"
   ]
  },
  {
   "cell_type": "markdown",
   "id": "d743605b",
   "metadata": {},
   "source": [
    "# NEW DATA"
   ]
  },
  {
   "cell_type": "code",
   "execution_count": 14,
   "id": "57dfc3ec",
   "metadata": {},
   "outputs": [
    {
     "name": "stdout",
     "output_type": "stream",
     "text": [
      "Train data shape: (500, 784) Test data shape: (10000, 784)\n",
      "Train labels shape: (500,)   Test labels shape: (10000,)\n",
      "Pool data shape: (59500, 784)   Pool labels shape: (59500,)\n"
     ]
    }
   ],
   "source": [
    "# define number of classes\n",
    "train_pr_label = 50\n",
    "\n",
    "# load train and test sets\n",
    "train = pd.read_csv('Data/fashion-mnist_train.csv').to_numpy()\n",
    "test = pd.read_csv('Data/fashion-mnist_test.csv').to_numpy()\n",
    "\n",
    "X_train = train[:,1:]\n",
    "y_train = train[:,0]\n",
    "X_test = test[:,1:]\n",
    "y_test = test[:,0]\n",
    "\n",
    "where_train = []\n",
    "where_test = []\n",
    "where_pool = []\n",
    "\n",
    "for label in range(10):\n",
    "    where_train.append(np.where(y_train == label)[0][:train_pr_label])\n",
    "    where_test.append(np.where(y_test == label)[0])\n",
    "    where_pool.append(np.where(y_train == label)[0][train_pr_label:])\n",
    "\n",
    "def flatten(array):\n",
    "    new_array = []\n",
    "    for sublist in array:\n",
    "        for item in sublist:\n",
    "            new_array.append(item)\n",
    "    return new_array\n",
    "    \n",
    "where_train = flatten(where_train)\n",
    "where_test = flatten(where_test)\n",
    "where_pool = flatten(where_pool)\n",
    "\n",
    "X_pool = X_train[where_pool]\n",
    "y_pool = y_train[where_pool]\n",
    "\n",
    "X_train = X_train[where_train]\n",
    "y_train = y_train[where_train]\n",
    "\n",
    "X_test = X_test[where_test]\n",
    "y_test = y_test[where_test]\n",
    "    \n",
    "print(\"Train data shape:\", X_train.shape, \"Test data shape:\", X_test.shape)\n",
    "print(\"Train labels shape:\", y_train.shape,\"  Test labels shape:\", y_test.shape)\n",
    "print(\"Pool data shape:\", X_pool.shape,\"  Pool labels shape:\", y_pool.shape)"
   ]
  },
  {
   "cell_type": "markdown",
   "id": "d34e268d",
   "metadata": {},
   "source": [
    "# NAIVE BAYES TEST"
   ]
  },
  {
   "cell_type": "code",
   "execution_count": 15,
   "id": "9a5747b0",
   "metadata": {
    "scrolled": true
   },
   "outputs": [
    {
     "name": "stdout",
     "output_type": "stream",
     "text": [
      "Number of mislabeled points out of a total 10000 points : 2549\n",
      "25.490000000000002% mislabeled data.\n",
      "Mislabeled of class 0: 27.0\n",
      "Mislabeled of class 1: 4.0\n",
      "Mislabeled of class 2: 38.4\n",
      "Mislabeled of class 3: 28.599999999999998\n",
      "Mislabeled of class 4: 26.900000000000002\n",
      "Mislabeled of class 5: 36.3\n",
      "Mislabeled of class 6: 55.300000000000004\n",
      "Mislabeled of class 7: 16.2\n",
      "Mislabeled of class 8: 14.000000000000002\n",
      "Mislabeled of class 9: 8.200000000000001\n"
     ]
    }
   ],
   "source": [
    "gnb = GaussianNB()\n",
    "y_pred = gnb.fit(X_train, y_train).predict(X_test)\n",
    "\n",
    "clf = LogisticRegression(random_state=0).fit(X_train, y_train)\n",
    "y_pred = clf.predict(X_test)\n",
    "\n",
    "print(\"Number of mislabeled points out of a total %d points : %d\"% (X_test.shape[0], (y_test != y_pred).sum()))\n",
    "print(\"{0}% mislabeled data.\".format(((y_test != y_pred).sum()/X_test.shape[0])*100))\n",
    "\n",
    "mislabeled = [0,0,0,0,0,0,0,0,0,0]\n",
    "count = [0,0,0,0,0,0,0,0,0,0]\n",
    "for i in range(len(y_pred)):\n",
    "    count[int(y_test[i])] += 1\n",
    "    if y_pred[i] != y_test[i]:\n",
    "        mislabeled[int(y_test[i])] += 1\n",
    "\n",
    "for i in range(10):\n",
    "    print(\"Mislabeled of class {0}: {1}\".format(i,(mislabeled[i]/count[i])*100))"
   ]
  },
  {
   "cell_type": "code",
   "execution_count": null,
   "id": "db683c51",
   "metadata": {},
   "outputs": [],
   "source": []
  }
 ],
 "metadata": {
  "kernelspec": {
   "display_name": "Python 3 (ipykernel)",
   "language": "python",
   "name": "python3"
  },
  "language_info": {
   "codemirror_mode": {
    "name": "ipython",
    "version": 3
   },
   "file_extension": ".py",
   "mimetype": "text/x-python",
   "name": "python",
   "nbconvert_exporter": "python",
   "pygments_lexer": "ipython3",
   "version": "3.9.7"
  }
 },
 "nbformat": 4,
 "nbformat_minor": 5
}
